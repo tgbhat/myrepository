{
 "cells": [
  {
   "cell_type": "markdown",
   "metadata": {
    "id": "pXQzH0nC5JtP"
   },
   "source": [
    "### Tathagat Bhattacharyya\n",
    "\n",
    "# **Amazon Product Recommendation System Project**\n",
    "\n",
    "Welcome to the project on Recommendation Systems. We will work with the Amazon product reviews dataset for this project. The dataset contains ratings of different electronic products. It does not include information about the products or reviews to avoid bias while building the model.\n",
    "\n",
    "## **Context:**\n",
    "\n",
    "Today, information is growing exponentially with volume, velocity and variety throughout the globe. This has lead to information overload, and too many choices for the consumer of any business. It represents a real dilemma for these consumers and they often turn to denial. Recommender Systems are one of the best tools that help recommending products to consumers while they are browsing online. Providing personalized recommendations which is most relevant for the user is what's most likely to keep them engaged and help business.\n",
    "\n",
    "E-commerce websites like Amazon, Walmart, Target and Etsy use different recommendation models to provide personalized suggestions to different users. These companies spend millions of dollars to come up with algorithmic techniques that can provide personalized recommendations to their users.\n",
    "\n",
    "Amazon, for example, is well-known for its accurate selection of recommendations in its online site. Amazon's recommendation system is capable of intelligently analyzing and predicting customers' shopping preferences in order to offer them a list of recommended products. Amazon's recommendation algorithm is therefore a key element in using AI to improve the personalization of its website. For example, one of the baseline recommendation models that Amazon uses is item-to-item collaborative filtering, which scales to massive data sets and produces high-quality recommendations in real-time.\n",
    "\n",
    "----------------\n",
    "## **Objective:**\n",
    "----------------\n",
    "\n",
    "You are a Data Science Manager at Amazon, and have been given the task of building a recommendation system to recommend products to customers based on their previous ratings for other products. You have a collection of labeled data of Amazon reviews of products. The goal is to extract meaningful insights from the data and build a recommendation system that helps in recommending products to online consumers.\n",
    "\n",
    "-----------------------------\n",
    "## **Dataset:**\n",
    "-----------------------------\n",
    "\n",
    "The Amazon dataset contains the following attributes:\n",
    "\n",
    "- **userId:** Every user identified with a unique id\n",
    "- **productId:** Every product identified with a unique id\n",
    "- **Rating:** The rating of the corresponding product by the corresponding user\n",
    "- **timestamp:** Time of the rating. We **will not use this column** to solve the current problem"
   ]
  },
  {
   "cell_type": "markdown",
   "metadata": {
    "id": "nmdPxJ2Q7W7p"
   },
   "source": [
    "**Note:** The code has some user defined functions that will be usefull while making recommendations and measure model performance, you can use these functions or can create your own functions."
   ]
  },
  {
   "cell_type": "markdown",
   "metadata": {
    "id": "UoRfgjS2yekq"
   },
   "source": [
    "Sometimes, the installation of the surprise library, which is used to build recommendation systems, faces issues in Jupyter. To avoid any issues, it is advised to use **Google Colab** for this project.\n",
    "\n",
    "Let's start by mounting the Google drive on Colab."
   ]
  },
  {
   "cell_type": "code",
   "execution_count": 1,
   "metadata": {
    "colab": {
     "base_uri": "https://localhost:8080/"
    },
    "id": "y1fetSwSF_N_",
    "outputId": "f74d5055-1330-4b80-8bce-d4967368202e"
   },
   "outputs": [
    {
     "name": "stdout",
     "output_type": "stream",
     "text": [
      "Drive already mounted at /content/drive; to attempt to forcibly remount, call drive.mount(\"/content/drive\", force_remount=True).\n"
     ]
    }
   ],
   "source": [
    "from google.colab import drive\n",
    "drive.mount('/content/drive')"
   ]
  },
  {
   "cell_type": "markdown",
   "metadata": {
    "id": "0Ibk07-Cyekt"
   },
   "source": [
    "**Installing surprise library**"
   ]
  },
  {
   "cell_type": "code",
   "execution_count": 2,
   "metadata": {
    "colab": {
     "base_uri": "https://localhost:8080/"
    },
    "id": "05HQoiZYlsbB",
    "outputId": "35b75880-9078-49f2-f5f5-3d616d36b53e"
   },
   "outputs": [
    {
     "name": "stdout",
     "output_type": "stream",
     "text": [
      "Requirement already satisfied: surprise in /usr/local/lib/python3.10/dist-packages (0.1)\n",
      "Requirement already satisfied: scikit-surprise in /usr/local/lib/python3.10/dist-packages (from surprise) (1.1.3)\n",
      "Requirement already satisfied: joblib>=1.0.0 in /usr/local/lib/python3.10/dist-packages (from scikit-surprise->surprise) (1.3.1)\n",
      "Requirement already satisfied: numpy>=1.17.3 in /usr/local/lib/python3.10/dist-packages (from scikit-surprise->surprise) (1.22.4)\n",
      "Requirement already satisfied: scipy>=1.3.2 in /usr/local/lib/python3.10/dist-packages (from scikit-surprise->surprise) (1.10.1)\n"
     ]
    }
   ],
   "source": [
    "!pip install surprise"
   ]
  },
  {
   "cell_type": "markdown",
   "metadata": {
    "id": "7fIt4jcFIm76"
   },
   "source": [
    "## **Importing the necessary libraries and overview of the dataset**"
   ]
  },
  {
   "cell_type": "code",
   "execution_count": 3,
   "metadata": {
    "id": "jzu2P-TT5JtP"
   },
   "outputs": [],
   "source": [
    "import numpy as np\n",
    "import pandas as pd\n",
    "import matplotlib.pyplot as plt\n",
    "import seaborn as sns\n",
    "from surprise.prediction_algorithms.matrix_factorization import SVD\n",
    "from collections import defaultdict\n",
    "from surprise.model_selection import KFold\n",
    "import warnings\n",
    "warnings.filterwarnings('ignore')"
   ]
  },
  {
   "cell_type": "markdown",
   "metadata": {
    "id": "NrXYJAv95JtP"
   },
   "source": [
    "### **Loading the data**\n",
    "- Import the Dataset\n",
    "- Add column names ['user_id', 'prod_id', 'rating', 'timestamp']\n",
    "- Drop the column timestamp\n",
    "- Copy the data to another DataFrame called **df**"
   ]
  },
  {
   "cell_type": "code",
   "execution_count": 4,
   "metadata": {
    "colab": {
     "base_uri": "https://localhost:8080/",
     "height": 206
    },
    "id": "JGb-Hk1B5JtP",
    "outputId": "918eee34-452d-41bf-82d2-2cd39d2d25de"
   },
   "outputs": [
    {
     "data": {
      "text/html": [
       "\n",
       "\n",
       "  <div id=\"df-256e9d69-d0d8-4363-8af0-8653edfd69a6\">\n",
       "    <div class=\"colab-df-container\">\n",
       "      <div>\n",
       "<style scoped>\n",
       "    .dataframe tbody tr th:only-of-type {\n",
       "        vertical-align: middle;\n",
       "    }\n",
       "\n",
       "    .dataframe tbody tr th {\n",
       "        vertical-align: top;\n",
       "    }\n",
       "\n",
       "    .dataframe thead th {\n",
       "        text-align: right;\n",
       "    }\n",
       "</style>\n",
       "<table border=\"1\" class=\"dataframe\">\n",
       "  <thead>\n",
       "    <tr style=\"text-align: right;\">\n",
       "      <th></th>\n",
       "      <th>user_id</th>\n",
       "      <th>prod_id</th>\n",
       "      <th>rating</th>\n",
       "    </tr>\n",
       "  </thead>\n",
       "  <tbody>\n",
       "    <tr>\n",
       "      <th>0</th>\n",
       "      <td>AKM1MP6P0OYPR</td>\n",
       "      <td>0132793040</td>\n",
       "      <td>5.0</td>\n",
       "    </tr>\n",
       "    <tr>\n",
       "      <th>1</th>\n",
       "      <td>A2CX7LUOHB2NDG</td>\n",
       "      <td>0321732944</td>\n",
       "      <td>5.0</td>\n",
       "    </tr>\n",
       "    <tr>\n",
       "      <th>2</th>\n",
       "      <td>A2NWSAGRHCP8N5</td>\n",
       "      <td>0439886341</td>\n",
       "      <td>1.0</td>\n",
       "    </tr>\n",
       "    <tr>\n",
       "      <th>3</th>\n",
       "      <td>A2WNBOD3WNDNKT</td>\n",
       "      <td>0439886341</td>\n",
       "      <td>3.0</td>\n",
       "    </tr>\n",
       "    <tr>\n",
       "      <th>4</th>\n",
       "      <td>A1GI0U4ZRJA8WN</td>\n",
       "      <td>0439886341</td>\n",
       "      <td>1.0</td>\n",
       "    </tr>\n",
       "  </tbody>\n",
       "</table>\n",
       "</div>\n",
       "      <button class=\"colab-df-convert\" onclick=\"convertToInteractive('df-256e9d69-d0d8-4363-8af0-8653edfd69a6')\"\n",
       "              title=\"Convert this dataframe to an interactive table.\"\n",
       "              style=\"display:none;\">\n",
       "\n",
       "  <svg xmlns=\"http://www.w3.org/2000/svg\" height=\"24px\"viewBox=\"0 0 24 24\"\n",
       "       width=\"24px\">\n",
       "    <path d=\"M0 0h24v24H0V0z\" fill=\"none\"/>\n",
       "    <path d=\"M18.56 5.44l.94 2.06.94-2.06 2.06-.94-2.06-.94-.94-2.06-.94 2.06-2.06.94zm-11 1L8.5 8.5l.94-2.06 2.06-.94-2.06-.94L8.5 2.5l-.94 2.06-2.06.94zm10 10l.94 2.06.94-2.06 2.06-.94-2.06-.94-.94-2.06-.94 2.06-2.06.94z\"/><path d=\"M17.41 7.96l-1.37-1.37c-.4-.4-.92-.59-1.43-.59-.52 0-1.04.2-1.43.59L10.3 9.45l-7.72 7.72c-.78.78-.78 2.05 0 2.83L4 21.41c.39.39.9.59 1.41.59.51 0 1.02-.2 1.41-.59l7.78-7.78 2.81-2.81c.8-.78.8-2.07 0-2.86zM5.41 20L4 18.59l7.72-7.72 1.47 1.35L5.41 20z\"/>\n",
       "  </svg>\n",
       "      </button>\n",
       "\n",
       "\n",
       "\n",
       "    <div id=\"df-e111559f-601c-4c6f-b846-0b35d443f277\">\n",
       "      <button class=\"colab-df-quickchart\" onclick=\"quickchart('df-e111559f-601c-4c6f-b846-0b35d443f277')\"\n",
       "              title=\"Suggest charts.\"\n",
       "              style=\"display:none;\">\n",
       "\n",
       "<svg xmlns=\"http://www.w3.org/2000/svg\" height=\"24px\"viewBox=\"0 0 24 24\"\n",
       "     width=\"24px\">\n",
       "    <g>\n",
       "        <path d=\"M19 3H5c-1.1 0-2 .9-2 2v14c0 1.1.9 2 2 2h14c1.1 0 2-.9 2-2V5c0-1.1-.9-2-2-2zM9 17H7v-7h2v7zm4 0h-2V7h2v10zm4 0h-2v-4h2v4z\"/>\n",
       "    </g>\n",
       "</svg>\n",
       "      </button>\n",
       "    </div>\n",
       "\n",
       "<style>\n",
       "  .colab-df-quickchart {\n",
       "    background-color: #E8F0FE;\n",
       "    border: none;\n",
       "    border-radius: 50%;\n",
       "    cursor: pointer;\n",
       "    display: none;\n",
       "    fill: #1967D2;\n",
       "    height: 32px;\n",
       "    padding: 0 0 0 0;\n",
       "    width: 32px;\n",
       "  }\n",
       "\n",
       "  .colab-df-quickchart:hover {\n",
       "    background-color: #E2EBFA;\n",
       "    box-shadow: 0px 1px 2px rgba(60, 64, 67, 0.3), 0px 1px 3px 1px rgba(60, 64, 67, 0.15);\n",
       "    fill: #174EA6;\n",
       "  }\n",
       "\n",
       "  [theme=dark] .colab-df-quickchart {\n",
       "    background-color: #3B4455;\n",
       "    fill: #D2E3FC;\n",
       "  }\n",
       "\n",
       "  [theme=dark] .colab-df-quickchart:hover {\n",
       "    background-color: #434B5C;\n",
       "    box-shadow: 0px 1px 3px 1px rgba(0, 0, 0, 0.15);\n",
       "    filter: drop-shadow(0px 1px 2px rgba(0, 0, 0, 0.3));\n",
       "    fill: #FFFFFF;\n",
       "  }\n",
       "</style>\n",
       "\n",
       "    <script>\n",
       "      async function quickchart(key) {\n",
       "        const containerElement = document.querySelector('#' + key);\n",
       "        const charts = await google.colab.kernel.invokeFunction(\n",
       "            'suggestCharts', [key], {});\n",
       "      }\n",
       "    </script>\n",
       "\n",
       "      <script>\n",
       "\n",
       "function displayQuickchartButton(domScope) {\n",
       "  let quickchartButtonEl =\n",
       "    domScope.querySelector('#df-e111559f-601c-4c6f-b846-0b35d443f277 button.colab-df-quickchart');\n",
       "  quickchartButtonEl.style.display =\n",
       "    google.colab.kernel.accessAllowed ? 'block' : 'none';\n",
       "}\n",
       "\n",
       "        displayQuickchartButton(document);\n",
       "      </script>\n",
       "      <style>\n",
       "    .colab-df-container {\n",
       "      display:flex;\n",
       "      flex-wrap:wrap;\n",
       "      gap: 12px;\n",
       "    }\n",
       "\n",
       "    .colab-df-convert {\n",
       "      background-color: #E8F0FE;\n",
       "      border: none;\n",
       "      border-radius: 50%;\n",
       "      cursor: pointer;\n",
       "      display: none;\n",
       "      fill: #1967D2;\n",
       "      height: 32px;\n",
       "      padding: 0 0 0 0;\n",
       "      width: 32px;\n",
       "    }\n",
       "\n",
       "    .colab-df-convert:hover {\n",
       "      background-color: #E2EBFA;\n",
       "      box-shadow: 0px 1px 2px rgba(60, 64, 67, 0.3), 0px 1px 3px 1px rgba(60, 64, 67, 0.15);\n",
       "      fill: #174EA6;\n",
       "    }\n",
       "\n",
       "    [theme=dark] .colab-df-convert {\n",
       "      background-color: #3B4455;\n",
       "      fill: #D2E3FC;\n",
       "    }\n",
       "\n",
       "    [theme=dark] .colab-df-convert:hover {\n",
       "      background-color: #434B5C;\n",
       "      box-shadow: 0px 1px 3px 1px rgba(0, 0, 0, 0.15);\n",
       "      filter: drop-shadow(0px 1px 2px rgba(0, 0, 0, 0.3));\n",
       "      fill: #FFFFFF;\n",
       "    }\n",
       "  </style>\n",
       "\n",
       "      <script>\n",
       "        const buttonEl =\n",
       "          document.querySelector('#df-256e9d69-d0d8-4363-8af0-8653edfd69a6 button.colab-df-convert');\n",
       "        buttonEl.style.display =\n",
       "          google.colab.kernel.accessAllowed ? 'block' : 'none';\n",
       "\n",
       "        async function convertToInteractive(key) {\n",
       "          const element = document.querySelector('#df-256e9d69-d0d8-4363-8af0-8653edfd69a6');\n",
       "          const dataTable =\n",
       "            await google.colab.kernel.invokeFunction('convertToInteractive',\n",
       "                                                     [key], {});\n",
       "          if (!dataTable) return;\n",
       "\n",
       "          const docLinkHtml = 'Like what you see? Visit the ' +\n",
       "            '<a target=\"_blank\" href=https://colab.research.google.com/notebooks/data_table.ipynb>data table notebook</a>'\n",
       "            + ' to learn more about interactive tables.';\n",
       "          element.innerHTML = '';\n",
       "          dataTable['output_type'] = 'display_data';\n",
       "          await google.colab.output.renderOutput(dataTable, element);\n",
       "          const docLink = document.createElement('div');\n",
       "          docLink.innerHTML = docLinkHtml;\n",
       "          element.appendChild(docLink);\n",
       "        }\n",
       "      </script>\n",
       "    </div>\n",
       "  </div>\n"
      ],
      "text/plain": [
       "          user_id     prod_id  rating\n",
       "0   AKM1MP6P0OYPR  0132793040     5.0\n",
       "1  A2CX7LUOHB2NDG  0321732944     5.0\n",
       "2  A2NWSAGRHCP8N5  0439886341     1.0\n",
       "3  A2WNBOD3WNDNKT  0439886341     3.0\n",
       "4  A1GI0U4ZRJA8WN  0439886341     1.0"
      ]
     },
     "execution_count": 4,
     "metadata": {},
     "output_type": "execute_result"
    }
   ],
   "source": [
    "df = pd.read_csv('/content/drive/MyDrive/ratings_Electronics.csv', header = None, names = ['user_id', 'prod_id', 'rating', 'timestamp'])\n",
    "df = df.drop(['timestamp'], axis = 1)\n",
    "df.head()"
   ]
  },
  {
   "cell_type": "markdown",
   "metadata": {
    "id": "OVQnSG5g_9uX"
   },
   "source": [
    "**As this dataset is very large and has 7,824,482 observations, it is not computationally possible to build a model using this. Moreover, many users have only rated a few products and also some products are rated by very few users. Hence, we can reduce the dataset by considering certain logical assumptions.**\n",
    "\n",
    "Here, we will be taking users who have given at least 50 ratings, and the products that have at least 5 ratings, as when we shop online we prefer to have some number of ratings of a product."
   ]
  },
  {
   "cell_type": "code",
   "execution_count": null,
   "metadata": {
    "id": "4yt9W7Q32EQQ"
   },
   "outputs": [],
   "source": [
    "# Get the column containing the users\n",
    "users = df.user_id\n",
    "\n",
    "# Create a dictionary from users to their number of ratings\n",
    "ratings_count = dict()\n",
    "\n",
    "for user in users:\n",
    "\n",
    "    # If we already have the user, just add 1 to their rating count\n",
    "    if user in ratings_count:\n",
    "        ratings_count[user] += 1\n",
    "\n",
    "    # Otherwise, set their rating count to 1\n",
    "    else:\n",
    "        ratings_count[user] = 1"
   ]
  },
  {
   "cell_type": "code",
   "execution_count": null,
   "metadata": {
    "id": "19XB60dq2EQR"
   },
   "outputs": [],
   "source": [
    "# We want our users to have at least 50 ratings to be considered\n",
    "RATINGS_CUTOFF = 50\n",
    "\n",
    "remove_users = []\n",
    "\n",
    "for user, num_ratings in ratings_count.items():\n",
    "    if num_ratings < RATINGS_CUTOFF:\n",
    "        remove_users.append(user)\n",
    "\n",
    "df = df.loc[ ~ df.user_id.isin(remove_users)]"
   ]
  },
  {
   "cell_type": "code",
   "execution_count": null,
   "metadata": {
    "id": "33UzK1D82EQS"
   },
   "outputs": [],
   "source": [
    "# Get the column containing the products\n",
    "prods = df.prod_id\n",
    "\n",
    "# Create a dictionary from products to their number of ratings\n",
    "ratings_count = dict()\n",
    "\n",
    "for prod in prods:\n",
    "\n",
    "    # If we already have the product, just add 1 to its rating count\n",
    "    if prod in ratings_count:\n",
    "        ratings_count[prod] += 1\n",
    "\n",
    "    # Otherwise, set their rating count to 1\n",
    "    else:\n",
    "        ratings_count[prod] = 1"
   ]
  },
  {
   "cell_type": "code",
   "execution_count": null,
   "metadata": {
    "id": "u6YE-lUp2EQT"
   },
   "outputs": [],
   "source": [
    "# We want our item to have at least 5 ratings to be considered\n",
    "RATINGS_CUTOFF = 5\n",
    "\n",
    "remove_users = []\n",
    "\n",
    "for user, num_ratings in ratings_count.items():\n",
    "    if num_ratings < RATINGS_CUTOFF:\n",
    "        remove_users.append(user)\n",
    "\n",
    "df_final = df.loc[~ df.prod_id.isin(remove_users)]"
   ]
  },
  {
   "cell_type": "code",
   "execution_count": null,
   "metadata": {
    "colab": {
     "base_uri": "https://localhost:8080/",
     "height": 206
    },
    "id": "aL1JZ00o5JtQ",
    "outputId": "d20b204a-9bb8-4f21-a6c4-bf2a76874328"
   },
   "outputs": [
    {
     "data": {
      "text/html": [
       "\n",
       "\n",
       "  <div id=\"df-acaf745d-c48f-4ab8-a773-0710f7b17025\">\n",
       "    <div class=\"colab-df-container\">\n",
       "      <div>\n",
       "<style scoped>\n",
       "    .dataframe tbody tr th:only-of-type {\n",
       "        vertical-align: middle;\n",
       "    }\n",
       "\n",
       "    .dataframe tbody tr th {\n",
       "        vertical-align: top;\n",
       "    }\n",
       "\n",
       "    .dataframe thead th {\n",
       "        text-align: right;\n",
       "    }\n",
       "</style>\n",
       "<table border=\"1\" class=\"dataframe\">\n",
       "  <thead>\n",
       "    <tr style=\"text-align: right;\">\n",
       "      <th></th>\n",
       "      <th>user_id</th>\n",
       "      <th>prod_id</th>\n",
       "      <th>rating</th>\n",
       "    </tr>\n",
       "  </thead>\n",
       "  <tbody>\n",
       "    <tr>\n",
       "      <th>1310</th>\n",
       "      <td>A3LDPF5FMB782Z</td>\n",
       "      <td>1400501466</td>\n",
       "      <td>5.0</td>\n",
       "    </tr>\n",
       "    <tr>\n",
       "      <th>1322</th>\n",
       "      <td>A1A5KUIIIHFF4U</td>\n",
       "      <td>1400501466</td>\n",
       "      <td>1.0</td>\n",
       "    </tr>\n",
       "    <tr>\n",
       "      <th>1335</th>\n",
       "      <td>A2XIOXRRYX0KZY</td>\n",
       "      <td>1400501466</td>\n",
       "      <td>3.0</td>\n",
       "    </tr>\n",
       "    <tr>\n",
       "      <th>1451</th>\n",
       "      <td>AW3LX47IHPFRL</td>\n",
       "      <td>1400501466</td>\n",
       "      <td>5.0</td>\n",
       "    </tr>\n",
       "    <tr>\n",
       "      <th>1456</th>\n",
       "      <td>A1E3OB6QMBKRYZ</td>\n",
       "      <td>1400501466</td>\n",
       "      <td>1.0</td>\n",
       "    </tr>\n",
       "  </tbody>\n",
       "</table>\n",
       "</div>\n",
       "      <button class=\"colab-df-convert\" onclick=\"convertToInteractive('df-acaf745d-c48f-4ab8-a773-0710f7b17025')\"\n",
       "              title=\"Convert this dataframe to an interactive table.\"\n",
       "              style=\"display:none;\">\n",
       "\n",
       "  <svg xmlns=\"http://www.w3.org/2000/svg\" height=\"24px\"viewBox=\"0 0 24 24\"\n",
       "       width=\"24px\">\n",
       "    <path d=\"M0 0h24v24H0V0z\" fill=\"none\"/>\n",
       "    <path d=\"M18.56 5.44l.94 2.06.94-2.06 2.06-.94-2.06-.94-.94-2.06-.94 2.06-2.06.94zm-11 1L8.5 8.5l.94-2.06 2.06-.94-2.06-.94L8.5 2.5l-.94 2.06-2.06.94zm10 10l.94 2.06.94-2.06 2.06-.94-2.06-.94-.94-2.06-.94 2.06-2.06.94z\"/><path d=\"M17.41 7.96l-1.37-1.37c-.4-.4-.92-.59-1.43-.59-.52 0-1.04.2-1.43.59L10.3 9.45l-7.72 7.72c-.78.78-.78 2.05 0 2.83L4 21.41c.39.39.9.59 1.41.59.51 0 1.02-.2 1.41-.59l7.78-7.78 2.81-2.81c.8-.78.8-2.07 0-2.86zM5.41 20L4 18.59l7.72-7.72 1.47 1.35L5.41 20z\"/>\n",
       "  </svg>\n",
       "      </button>\n",
       "\n",
       "\n",
       "\n",
       "    <div id=\"df-46449e96-f583-4131-89e1-9552ab499862\">\n",
       "      <button class=\"colab-df-quickchart\" onclick=\"quickchart('df-46449e96-f583-4131-89e1-9552ab499862')\"\n",
       "              title=\"Suggest charts.\"\n",
       "              style=\"display:none;\">\n",
       "\n",
       "<svg xmlns=\"http://www.w3.org/2000/svg\" height=\"24px\"viewBox=\"0 0 24 24\"\n",
       "     width=\"24px\">\n",
       "    <g>\n",
       "        <path d=\"M19 3H5c-1.1 0-2 .9-2 2v14c0 1.1.9 2 2 2h14c1.1 0 2-.9 2-2V5c0-1.1-.9-2-2-2zM9 17H7v-7h2v7zm4 0h-2V7h2v10zm4 0h-2v-4h2v4z\"/>\n",
       "    </g>\n",
       "</svg>\n",
       "      </button>\n",
       "    </div>\n",
       "\n",
       "<style>\n",
       "  .colab-df-quickchart {\n",
       "    background-color: #E8F0FE;\n",
       "    border: none;\n",
       "    border-radius: 50%;\n",
       "    cursor: pointer;\n",
       "    display: none;\n",
       "    fill: #1967D2;\n",
       "    height: 32px;\n",
       "    padding: 0 0 0 0;\n",
       "    width: 32px;\n",
       "  }\n",
       "\n",
       "  .colab-df-quickchart:hover {\n",
       "    background-color: #E2EBFA;\n",
       "    box-shadow: 0px 1px 2px rgba(60, 64, 67, 0.3), 0px 1px 3px 1px rgba(60, 64, 67, 0.15);\n",
       "    fill: #174EA6;\n",
       "  }\n",
       "\n",
       "  [theme=dark] .colab-df-quickchart {\n",
       "    background-color: #3B4455;\n",
       "    fill: #D2E3FC;\n",
       "  }\n",
       "\n",
       "  [theme=dark] .colab-df-quickchart:hover {\n",
       "    background-color: #434B5C;\n",
       "    box-shadow: 0px 1px 3px 1px rgba(0, 0, 0, 0.15);\n",
       "    filter: drop-shadow(0px 1px 2px rgba(0, 0, 0, 0.3));\n",
       "    fill: #FFFFFF;\n",
       "  }\n",
       "</style>\n",
       "\n",
       "    <script>\n",
       "      async function quickchart(key) {\n",
       "        const containerElement = document.querySelector('#' + key);\n",
       "        const charts = await google.colab.kernel.invokeFunction(\n",
       "            'suggestCharts', [key], {});\n",
       "      }\n",
       "    </script>\n",
       "\n",
       "      <script>\n",
       "\n",
       "function displayQuickchartButton(domScope) {\n",
       "  let quickchartButtonEl =\n",
       "    domScope.querySelector('#df-46449e96-f583-4131-89e1-9552ab499862 button.colab-df-quickchart');\n",
       "  quickchartButtonEl.style.display =\n",
       "    google.colab.kernel.accessAllowed ? 'block' : 'none';\n",
       "}\n",
       "\n",
       "        displayQuickchartButton(document);\n",
       "      </script>\n",
       "      <style>\n",
       "    .colab-df-container {\n",
       "      display:flex;\n",
       "      flex-wrap:wrap;\n",
       "      gap: 12px;\n",
       "    }\n",
       "\n",
       "    .colab-df-convert {\n",
       "      background-color: #E8F0FE;\n",
       "      border: none;\n",
       "      border-radius: 50%;\n",
       "      cursor: pointer;\n",
       "      display: none;\n",
       "      fill: #1967D2;\n",
       "      height: 32px;\n",
       "      padding: 0 0 0 0;\n",
       "      width: 32px;\n",
       "    }\n",
       "\n",
       "    .colab-df-convert:hover {\n",
       "      background-color: #E2EBFA;\n",
       "      box-shadow: 0px 1px 2px rgba(60, 64, 67, 0.3), 0px 1px 3px 1px rgba(60, 64, 67, 0.15);\n",
       "      fill: #174EA6;\n",
       "    }\n",
       "\n",
       "    [theme=dark] .colab-df-convert {\n",
       "      background-color: #3B4455;\n",
       "      fill: #D2E3FC;\n",
       "    }\n",
       "\n",
       "    [theme=dark] .colab-df-convert:hover {\n",
       "      background-color: #434B5C;\n",
       "      box-shadow: 0px 1px 3px 1px rgba(0, 0, 0, 0.15);\n",
       "      filter: drop-shadow(0px 1px 2px rgba(0, 0, 0, 0.3));\n",
       "      fill: #FFFFFF;\n",
       "    }\n",
       "  </style>\n",
       "\n",
       "      <script>\n",
       "        const buttonEl =\n",
       "          document.querySelector('#df-acaf745d-c48f-4ab8-a773-0710f7b17025 button.colab-df-convert');\n",
       "        buttonEl.style.display =\n",
       "          google.colab.kernel.accessAllowed ? 'block' : 'none';\n",
       "\n",
       "        async function convertToInteractive(key) {\n",
       "          const element = document.querySelector('#df-acaf745d-c48f-4ab8-a773-0710f7b17025');\n",
       "          const dataTable =\n",
       "            await google.colab.kernel.invokeFunction('convertToInteractive',\n",
       "                                                     [key], {});\n",
       "          if (!dataTable) return;\n",
       "\n",
       "          const docLinkHtml = 'Like what you see? Visit the ' +\n",
       "            '<a target=\"_blank\" href=https://colab.research.google.com/notebooks/data_table.ipynb>data table notebook</a>'\n",
       "            + ' to learn more about interactive tables.';\n",
       "          element.innerHTML = '';\n",
       "          dataTable['output_type'] = 'display_data';\n",
       "          await google.colab.output.renderOutput(dataTable, element);\n",
       "          const docLink = document.createElement('div');\n",
       "          docLink.innerHTML = docLinkHtml;\n",
       "          element.appendChild(docLink);\n",
       "        }\n",
       "      </script>\n",
       "    </div>\n",
       "  </div>\n"
      ],
      "text/plain": [
       "             user_id     prod_id  rating\n",
       "1310  A3LDPF5FMB782Z  1400501466     5.0\n",
       "1322  A1A5KUIIIHFF4U  1400501466     1.0\n",
       "1335  A2XIOXRRYX0KZY  1400501466     3.0\n",
       "1451   AW3LX47IHPFRL  1400501466     5.0\n",
       "1456  A1E3OB6QMBKRYZ  1400501466     1.0"
      ]
     },
     "execution_count": 9,
     "metadata": {},
     "output_type": "execute_result"
    }
   ],
   "source": [
    "# Print a few rows of the imported dataset\n",
    "df_final.head()"
   ]
  },
  {
   "cell_type": "markdown",
   "metadata": {
    "id": "GuPoy_XfxhXZ"
   },
   "source": [
    "## **Exploratory Data Analysis**"
   ]
  },
  {
   "cell_type": "markdown",
   "metadata": {
    "id": "s0d0bWeG-sVB"
   },
   "source": [
    "### **Shape of the data**"
   ]
  },
  {
   "cell_type": "markdown",
   "metadata": {
    "id": "qyBVTRDTyek0"
   },
   "source": [
    "### **Check the number of rows and columns and provide observations.**"
   ]
  },
  {
   "cell_type": "code",
   "execution_count": null,
   "metadata": {
    "colab": {
     "base_uri": "https://localhost:8080/"
    },
    "id": "fJ4eQKaY5JtQ",
    "outputId": "b77bc537-4d2d-4741-e3d5-4d1fadc68f5f"
   },
   "outputs": [
    {
     "data": {
      "text/plain": [
       "(125871, 3)"
      ]
     },
     "execution_count": 10,
     "metadata": {},
     "output_type": "execute_result"
    }
   ],
   "source": [
    "# Check the number of rows and columns and provide observations\n",
    "df.shape"
   ]
  },
  {
   "cell_type": "markdown",
   "metadata": {
    "id": "Slp-fgWQ-sVD"
   },
   "source": [
    "**Write your observations here: This data has 125,871 rows and 3 columns.**"
   ]
  },
  {
   "cell_type": "markdown",
   "metadata": {
    "id": "lAMWm0nC-sVF"
   },
   "source": [
    "### **Data types**"
   ]
  },
  {
   "cell_type": "code",
   "execution_count": null,
   "metadata": {
    "colab": {
     "base_uri": "https://localhost:8080/"
    },
    "id": "SVrgMkye5JtQ",
    "outputId": "d8015bff-ec45-4523-bb31-c7e639ecb0f0"
   },
   "outputs": [
    {
     "name": "stdout",
     "output_type": "stream",
     "text": [
      "<class 'pandas.core.frame.DataFrame'>\n",
      "Int64Index: 125871 entries, 94 to 7824444\n",
      "Data columns (total 3 columns):\n",
      " #   Column   Non-Null Count   Dtype  \n",
      "---  ------   --------------   -----  \n",
      " 0   user_id  125871 non-null  object \n",
      " 1   prod_id  125871 non-null  object \n",
      " 2   rating   125871 non-null  float64\n",
      "dtypes: float64(1), object(2)\n",
      "memory usage: 3.8+ MB\n"
     ]
    }
   ],
   "source": [
    "# Check Data types and provide observations\n",
    "df.info()"
   ]
  },
  {
   "cell_type": "markdown",
   "metadata": {
    "id": "z4fOE02D-sVF"
   },
   "source": [
    "**Write your observations here: The user_id and prod_id columns contain object type values while the rating column contains float64 type values.**"
   ]
  },
  {
   "cell_type": "markdown",
   "metadata": {
    "id": "lTMpOROT-sVG"
   },
   "source": [
    "### **Checking for missing values**"
   ]
  },
  {
   "cell_type": "code",
   "execution_count": null,
   "metadata": {
    "colab": {
     "base_uri": "https://localhost:8080/"
    },
    "id": "vt-VEjMA5JtQ",
    "outputId": "21d9f20e-b7b7-4e40-b7ea-09a5f6fc1a22"
   },
   "outputs": [
    {
     "data": {
      "text/plain": [
       "user_id    0\n",
       "prod_id    0\n",
       "rating     0\n",
       "dtype: int64"
      ]
     },
     "execution_count": 12,
     "metadata": {},
     "output_type": "execute_result"
    }
   ],
   "source": [
    "# Check for missing values present and provide observations\n",
    "df.isna().sum()"
   ]
  },
  {
   "cell_type": "markdown",
   "metadata": {
    "id": "qMWuBNhI5JtR"
   },
   "source": [
    "**Write your observations here: There are no missing values in this data.**"
   ]
  },
  {
   "cell_type": "markdown",
   "metadata": {
    "id": "wETrCg48-sVG"
   },
   "source": [
    "### **Summary Statistics**"
   ]
  },
  {
   "cell_type": "code",
   "execution_count": null,
   "metadata": {
    "colab": {
     "base_uri": "https://localhost:8080/",
     "height": 300
    },
    "id": "tYm30MXR5JtR",
    "outputId": "a89d7138-eab8-4099-e3cf-7eb70abe2913"
   },
   "outputs": [
    {
     "data": {
      "text/html": [
       "\n",
       "\n",
       "  <div id=\"df-8f07169f-f18c-4db2-a679-e293952b3086\">\n",
       "    <div class=\"colab-df-container\">\n",
       "      <div>\n",
       "<style scoped>\n",
       "    .dataframe tbody tr th:only-of-type {\n",
       "        vertical-align: middle;\n",
       "    }\n",
       "\n",
       "    .dataframe tbody tr th {\n",
       "        vertical-align: top;\n",
       "    }\n",
       "\n",
       "    .dataframe thead th {\n",
       "        text-align: right;\n",
       "    }\n",
       "</style>\n",
       "<table border=\"1\" class=\"dataframe\">\n",
       "  <thead>\n",
       "    <tr style=\"text-align: right;\">\n",
       "      <th></th>\n",
       "      <th>rating</th>\n",
       "    </tr>\n",
       "  </thead>\n",
       "  <tbody>\n",
       "    <tr>\n",
       "      <th>count</th>\n",
       "      <td>125871.000000</td>\n",
       "    </tr>\n",
       "    <tr>\n",
       "      <th>mean</th>\n",
       "      <td>4.261339</td>\n",
       "    </tr>\n",
       "    <tr>\n",
       "      <th>std</th>\n",
       "      <td>1.062144</td>\n",
       "    </tr>\n",
       "    <tr>\n",
       "      <th>min</th>\n",
       "      <td>1.000000</td>\n",
       "    </tr>\n",
       "    <tr>\n",
       "      <th>25%</th>\n",
       "      <td>4.000000</td>\n",
       "    </tr>\n",
       "    <tr>\n",
       "      <th>50%</th>\n",
       "      <td>5.000000</td>\n",
       "    </tr>\n",
       "    <tr>\n",
       "      <th>75%</th>\n",
       "      <td>5.000000</td>\n",
       "    </tr>\n",
       "    <tr>\n",
       "      <th>max</th>\n",
       "      <td>5.000000</td>\n",
       "    </tr>\n",
       "  </tbody>\n",
       "</table>\n",
       "</div>\n",
       "      <button class=\"colab-df-convert\" onclick=\"convertToInteractive('df-8f07169f-f18c-4db2-a679-e293952b3086')\"\n",
       "              title=\"Convert this dataframe to an interactive table.\"\n",
       "              style=\"display:none;\">\n",
       "\n",
       "  <svg xmlns=\"http://www.w3.org/2000/svg\" height=\"24px\"viewBox=\"0 0 24 24\"\n",
       "       width=\"24px\">\n",
       "    <path d=\"M0 0h24v24H0V0z\" fill=\"none\"/>\n",
       "    <path d=\"M18.56 5.44l.94 2.06.94-2.06 2.06-.94-2.06-.94-.94-2.06-.94 2.06-2.06.94zm-11 1L8.5 8.5l.94-2.06 2.06-.94-2.06-.94L8.5 2.5l-.94 2.06-2.06.94zm10 10l.94 2.06.94-2.06 2.06-.94-2.06-.94-.94-2.06-.94 2.06-2.06.94z\"/><path d=\"M17.41 7.96l-1.37-1.37c-.4-.4-.92-.59-1.43-.59-.52 0-1.04.2-1.43.59L10.3 9.45l-7.72 7.72c-.78.78-.78 2.05 0 2.83L4 21.41c.39.39.9.59 1.41.59.51 0 1.02-.2 1.41-.59l7.78-7.78 2.81-2.81c.8-.78.8-2.07 0-2.86zM5.41 20L4 18.59l7.72-7.72 1.47 1.35L5.41 20z\"/>\n",
       "  </svg>\n",
       "      </button>\n",
       "\n",
       "\n",
       "\n",
       "    <div id=\"df-44c99c9f-36d2-4317-8152-8776f5aed1fc\">\n",
       "      <button class=\"colab-df-quickchart\" onclick=\"quickchart('df-44c99c9f-36d2-4317-8152-8776f5aed1fc')\"\n",
       "              title=\"Suggest charts.\"\n",
       "              style=\"display:none;\">\n",
       "\n",
       "<svg xmlns=\"http://www.w3.org/2000/svg\" height=\"24px\"viewBox=\"0 0 24 24\"\n",
       "     width=\"24px\">\n",
       "    <g>\n",
       "        <path d=\"M19 3H5c-1.1 0-2 .9-2 2v14c0 1.1.9 2 2 2h14c1.1 0 2-.9 2-2V5c0-1.1-.9-2-2-2zM9 17H7v-7h2v7zm4 0h-2V7h2v10zm4 0h-2v-4h2v4z\"/>\n",
       "    </g>\n",
       "</svg>\n",
       "      </button>\n",
       "    </div>\n",
       "\n",
       "<style>\n",
       "  .colab-df-quickchart {\n",
       "    background-color: #E8F0FE;\n",
       "    border: none;\n",
       "    border-radius: 50%;\n",
       "    cursor: pointer;\n",
       "    display: none;\n",
       "    fill: #1967D2;\n",
       "    height: 32px;\n",
       "    padding: 0 0 0 0;\n",
       "    width: 32px;\n",
       "  }\n",
       "\n",
       "  .colab-df-quickchart:hover {\n",
       "    background-color: #E2EBFA;\n",
       "    box-shadow: 0px 1px 2px rgba(60, 64, 67, 0.3), 0px 1px 3px 1px rgba(60, 64, 67, 0.15);\n",
       "    fill: #174EA6;\n",
       "  }\n",
       "\n",
       "  [theme=dark] .colab-df-quickchart {\n",
       "    background-color: #3B4455;\n",
       "    fill: #D2E3FC;\n",
       "  }\n",
       "\n",
       "  [theme=dark] .colab-df-quickchart:hover {\n",
       "    background-color: #434B5C;\n",
       "    box-shadow: 0px 1px 3px 1px rgba(0, 0, 0, 0.15);\n",
       "    filter: drop-shadow(0px 1px 2px rgba(0, 0, 0, 0.3));\n",
       "    fill: #FFFFFF;\n",
       "  }\n",
       "</style>\n",
       "\n",
       "    <script>\n",
       "      async function quickchart(key) {\n",
       "        const containerElement = document.querySelector('#' + key);\n",
       "        const charts = await google.colab.kernel.invokeFunction(\n",
       "            'suggestCharts', [key], {});\n",
       "      }\n",
       "    </script>\n",
       "\n",
       "      <script>\n",
       "\n",
       "function displayQuickchartButton(domScope) {\n",
       "  let quickchartButtonEl =\n",
       "    domScope.querySelector('#df-44c99c9f-36d2-4317-8152-8776f5aed1fc button.colab-df-quickchart');\n",
       "  quickchartButtonEl.style.display =\n",
       "    google.colab.kernel.accessAllowed ? 'block' : 'none';\n",
       "}\n",
       "\n",
       "        displayQuickchartButton(document);\n",
       "      </script>\n",
       "      <style>\n",
       "    .colab-df-container {\n",
       "      display:flex;\n",
       "      flex-wrap:wrap;\n",
       "      gap: 12px;\n",
       "    }\n",
       "\n",
       "    .colab-df-convert {\n",
       "      background-color: #E8F0FE;\n",
       "      border: none;\n",
       "      border-radius: 50%;\n",
       "      cursor: pointer;\n",
       "      display: none;\n",
       "      fill: #1967D2;\n",
       "      height: 32px;\n",
       "      padding: 0 0 0 0;\n",
       "      width: 32px;\n",
       "    }\n",
       "\n",
       "    .colab-df-convert:hover {\n",
       "      background-color: #E2EBFA;\n",
       "      box-shadow: 0px 1px 2px rgba(60, 64, 67, 0.3), 0px 1px 3px 1px rgba(60, 64, 67, 0.15);\n",
       "      fill: #174EA6;\n",
       "    }\n",
       "\n",
       "    [theme=dark] .colab-df-convert {\n",
       "      background-color: #3B4455;\n",
       "      fill: #D2E3FC;\n",
       "    }\n",
       "\n",
       "    [theme=dark] .colab-df-convert:hover {\n",
       "      background-color: #434B5C;\n",
       "      box-shadow: 0px 1px 3px 1px rgba(0, 0, 0, 0.15);\n",
       "      filter: drop-shadow(0px 1px 2px rgba(0, 0, 0, 0.3));\n",
       "      fill: #FFFFFF;\n",
       "    }\n",
       "  </style>\n",
       "\n",
       "      <script>\n",
       "        const buttonEl =\n",
       "          document.querySelector('#df-8f07169f-f18c-4db2-a679-e293952b3086 button.colab-df-convert');\n",
       "        buttonEl.style.display =\n",
       "          google.colab.kernel.accessAllowed ? 'block' : 'none';\n",
       "\n",
       "        async function convertToInteractive(key) {\n",
       "          const element = document.querySelector('#df-8f07169f-f18c-4db2-a679-e293952b3086');\n",
       "          const dataTable =\n",
       "            await google.colab.kernel.invokeFunction('convertToInteractive',\n",
       "                                                     [key], {});\n",
       "          if (!dataTable) return;\n",
       "\n",
       "          const docLinkHtml = 'Like what you see? Visit the ' +\n",
       "            '<a target=\"_blank\" href=https://colab.research.google.com/notebooks/data_table.ipynb>data table notebook</a>'\n",
       "            + ' to learn more about interactive tables.';\n",
       "          element.innerHTML = '';\n",
       "          dataTable['output_type'] = 'display_data';\n",
       "          await google.colab.output.renderOutput(dataTable, element);\n",
       "          const docLink = document.createElement('div');\n",
       "          docLink.innerHTML = docLinkHtml;\n",
       "          element.appendChild(docLink);\n",
       "        }\n",
       "      </script>\n",
       "    </div>\n",
       "  </div>\n"
      ],
      "text/plain": [
       "              rating\n",
       "count  125871.000000\n",
       "mean        4.261339\n",
       "std         1.062144\n",
       "min         1.000000\n",
       "25%         4.000000\n",
       "50%         5.000000\n",
       "75%         5.000000\n",
       "max         5.000000"
      ]
     },
     "execution_count": 13,
     "metadata": {},
     "output_type": "execute_result"
    }
   ],
   "source": [
    "# Summary statistics of 'rating' variable and provide observations\n",
    "df.describe()"
   ]
  },
  {
   "cell_type": "markdown",
   "metadata": {
    "id": "VqW50EIJxhXc"
   },
   "source": [
    "**Write your observations here: The rating variable has a mean of 4.26 with a standard deviation of 1.06. The minimum is 1 and maximum is 5. The 25th percentile is 4 and 75th percentile is 5.**"
   ]
  },
  {
   "cell_type": "markdown",
   "metadata": {
    "id": "ywyFrZIf5JtR"
   },
   "source": [
    "### **Checking the rating distribution**"
   ]
  },
  {
   "cell_type": "code",
   "execution_count": null,
   "metadata": {
    "colab": {
     "base_uri": "https://localhost:8080/",
     "height": 449
    },
    "id": "QbqhbEVe-sVH",
    "outputId": "e0364ae6-fd32-48a4-db55-59c248ec32c7"
   },
   "outputs": [
    {
     "data": {
      "image/png": "[encoded data removed]",
      "text/plain": [
       "<Figure size 640x480 with 1 Axes>"
      ]
     },
     "metadata": {},
     "output_type": "display_data"
    }
   ],
   "source": [
    "# Create the histogram plot and provide observations\n",
    "sns.histplot(data = df, x = 'rating')\n",
    "plt.show()"
   ]
  },
  {
   "cell_type": "markdown",
   "metadata": {
    "id": "t0jONrQv-sVH"
   },
   "source": [
    "**Write your observations here: Rating of 5 is the most common, followed by 4, then 3. The number of ratings of 1 and 2 are roughly the same, and are the least common.**"
   ]
  },
  {
   "cell_type": "markdown",
   "metadata": {
    "id": "HefpLdLJxhXd"
   },
   "source": [
    "### **Checking the number of unique users and items in the dataset**"
   ]
  },
  {
   "cell_type": "code",
   "execution_count": null,
   "metadata": {
    "colab": {
     "base_uri": "https://localhost:8080/"
    },
    "id": "NbSom7195JtR",
    "outputId": "16e458c4-dbdd-4620-9612-7a1e076196cc"
   },
   "outputs": [
    {
     "data": {
      "text/plain": [
       "1540"
      ]
     },
     "execution_count": 15,
     "metadata": {},
     "output_type": "execute_result"
    }
   ],
   "source": [
    "# Number of total rows in the data and number of unique user id and product id in the data\n",
    "user = df['user_id'].unique()\n",
    "len(user)"
   ]
  },
  {
   "cell_type": "code",
   "execution_count": null,
   "metadata": {
    "colab": {
     "base_uri": "https://localhost:8080/"
    },
    "id": "M15FVyJTGwo4",
    "outputId": "c2f9220a-c36c-4e09-8f38-fd1cad638729"
   },
   "outputs": [
    {
     "data": {
      "text/plain": [
       "48190"
      ]
     },
     "execution_count": 16,
     "metadata": {},
     "output_type": "execute_result"
    }
   ],
   "source": [
    "prod = df['prod_id'].unique()\n",
    "len(prod)"
   ]
  },
  {
   "cell_type": "markdown",
   "metadata": {
    "id": "Qwgz6CUt-sVI"
   },
   "source": [
    "**Write your observations here: There are 1,540 unique users and 48,190 unique products.**"
   ]
  },
  {
   "cell_type": "markdown",
   "metadata": {
    "id": "RfDnhSS4-sVI"
   },
   "source": [
    "### **Users with the most number of ratings**"
   ]
  },
  {
   "cell_type": "code",
   "execution_count": null,
   "metadata": {
    "colab": {
     "base_uri": "https://localhost:8080/"
    },
    "id": "n7MX452q5JtR",
    "outputId": "ebc9eab6-910e-402c-f030-3b513f8a73ae"
   },
   "outputs": [
    {
     "data": {
      "text/plain": [
       "A5JLAU2ARJ0BO     520\n",
       "ADLVFFE4VBT8      501\n",
       "A3OXHLG6DIBRW8    498\n",
       "A6FIAB28IS79      431\n",
       "A680RUE1FDO8B     406\n",
       "A1ODOGXEYECQQ8    380\n",
       "A36K2N527TXXJN    314\n",
       "A2AY4YUOX2N1BQ    311\n",
       "AWPODHOB4GFWL     308\n",
       "ARBKYIVNYWK3C     296\n",
       "Name: user_id, dtype: int64"
      ]
     },
     "execution_count": 17,
     "metadata": {},
     "output_type": "execute_result"
    }
   ],
   "source": [
    "# Top 10 users based on the number of ratings\n",
    "df['user_id'].value_counts().head(10)"
   ]
  },
  {
   "cell_type": "markdown",
   "metadata": {
    "id": "1X2w_jt9-sVI"
   },
   "source": [
    "**Write your observations here: The top 10 users are shown above. The user with the highest number of ratings is A5JLAU2ARJ0BO.**"
   ]
  },
  {
   "cell_type": "markdown",
   "metadata": {
    "id": "EnYTx-Ol-sVg"
   },
   "source": [
    "**Now that we have explored and prepared the data, let's build the first recommendation system.**"
   ]
  },
  {
   "cell_type": "markdown",
   "metadata": {
    "id": "6xYGrGVy5JtS"
   },
   "source": [
    "## **Model 1: Rank Based Recommendation System**"
   ]
  },
  {
   "cell_type": "code",
   "execution_count": null,
   "metadata": {
    "colab": {
     "base_uri": "https://localhost:8080/",
     "height": 237
    },
    "id": "yxZTj1UPxhXh",
    "outputId": "8d3e3462-bced-423d-be80-469fbc6752a2",
    "scrolled": true
   },
   "outputs": [
    {
     "data": {
      "text/html": [
       "\n",
       "\n",
       "  <div id=\"df-d71de8ac-529e-4af9-81dd-e861ab52b1c8\">\n",
       "    <div class=\"colab-df-container\">\n",
       "      <div>\n",
       "<style scoped>\n",
       "    .dataframe tbody tr th:only-of-type {\n",
       "        vertical-align: middle;\n",
       "    }\n",
       "\n",
       "    .dataframe tbody tr th {\n",
       "        vertical-align: top;\n",
       "    }\n",
       "\n",
       "    .dataframe thead th {\n",
       "        text-align: right;\n",
       "    }\n",
       "</style>\n",
       "<table border=\"1\" class=\"dataframe\">\n",
       "  <thead>\n",
       "    <tr style=\"text-align: right;\">\n",
       "      <th></th>\n",
       "      <th>avg_rating</th>\n",
       "      <th>rating_count</th>\n",
       "    </tr>\n",
       "    <tr>\n",
       "      <th>prod_id</th>\n",
       "      <th></th>\n",
       "      <th></th>\n",
       "    </tr>\n",
       "  </thead>\n",
       "  <tbody>\n",
       "    <tr>\n",
       "      <th>0594451647</th>\n",
       "      <td>5.0</td>\n",
       "      <td>1</td>\n",
       "    </tr>\n",
       "    <tr>\n",
       "      <th>B003RRY9RS</th>\n",
       "      <td>5.0</td>\n",
       "      <td>1</td>\n",
       "    </tr>\n",
       "    <tr>\n",
       "      <th>B003RR95Q8</th>\n",
       "      <td>5.0</td>\n",
       "      <td>1</td>\n",
       "    </tr>\n",
       "    <tr>\n",
       "      <th>B003RIPMZU</th>\n",
       "      <td>5.0</td>\n",
       "      <td>1</td>\n",
       "    </tr>\n",
       "    <tr>\n",
       "      <th>B003RFRNYQ</th>\n",
       "      <td>5.0</td>\n",
       "      <td>2</td>\n",
       "    </tr>\n",
       "  </tbody>\n",
       "</table>\n",
       "</div>\n",
       "      <button class=\"colab-df-convert\" onclick=\"convertToInteractive('df-d71de8ac-529e-4af9-81dd-e861ab52b1c8')\"\n",
       "              title=\"Convert this dataframe to an interactive table.\"\n",
       "              style=\"display:none;\">\n",
       "\n",
       "  <svg xmlns=\"http://www.w3.org/2000/svg\" height=\"24px\"viewBox=\"0 0 24 24\"\n",
       "       width=\"24px\">\n",
       "    <path d=\"M0 0h24v24H0V0z\" fill=\"none\"/>\n",
       "    <path d=\"M18.56 5.44l.94 2.06.94-2.06 2.06-.94-2.06-.94-.94-2.06-.94 2.06-2.06.94zm-11 1L8.5 8.5l.94-2.06 2.06-.94-2.06-.94L8.5 2.5l-.94 2.06-2.06.94zm10 10l.94 2.06.94-2.06 2.06-.94-2.06-.94-.94-2.06-.94 2.06-2.06.94z\"/><path d=\"M17.41 7.96l-1.37-1.37c-.4-.4-.92-.59-1.43-.59-.52 0-1.04.2-1.43.59L10.3 9.45l-7.72 7.72c-.78.78-.78 2.05 0 2.83L4 21.41c.39.39.9.59 1.41.59.51 0 1.02-.2 1.41-.59l7.78-7.78 2.81-2.81c.8-.78.8-2.07 0-2.86zM5.41 20L4 18.59l7.72-7.72 1.47 1.35L5.41 20z\"/>\n",
       "  </svg>\n",
       "      </button>\n",
       "\n",
       "\n",
       "\n",
       "    <div id=\"df-73b9a832-905b-4e12-a5a7-a1ef9cdaece9\">\n",
       "      <button class=\"colab-df-quickchart\" onclick=\"quickchart('df-73b9a832-905b-4e12-a5a7-a1ef9cdaece9')\"\n",
       "              title=\"Suggest charts.\"\n",
       "              style=\"display:none;\">\n",
       "\n",
       "<svg xmlns=\"http://www.w3.org/2000/svg\" height=\"24px\"viewBox=\"0 0 24 24\"\n",
       "     width=\"24px\">\n",
       "    <g>\n",
       "        <path d=\"M19 3H5c-1.1 0-2 .9-2 2v14c0 1.1.9 2 2 2h14c1.1 0 2-.9 2-2V5c0-1.1-.9-2-2-2zM9 17H7v-7h2v7zm4 0h-2V7h2v10zm4 0h-2v-4h2v4z\"/>\n",
       "    </g>\n",
       "</svg>\n",
       "      </button>\n",
       "    </div>\n",
       "\n",
       "<style>\n",
       "  .colab-df-quickchart {\n",
       "    background-color: #E8F0FE;\n",
       "    border: none;\n",
       "    border-radius: 50%;\n",
       "    cursor: pointer;\n",
       "    display: none;\n",
       "    fill: #1967D2;\n",
       "    height: 32px;\n",
       "    padding: 0 0 0 0;\n",
       "    width: 32px;\n",
       "  }\n",
       "\n",
       "  .colab-df-quickchart:hover {\n",
       "    background-color: #E2EBFA;\n",
       "    box-shadow: 0px 1px 2px rgba(60, 64, 67, 0.3), 0px 1px 3px 1px rgba(60, 64, 67, 0.15);\n",
       "    fill: #174EA6;\n",
       "  }\n",
       "\n",
       "  [theme=dark] .colab-df-quickchart {\n",
       "    background-color: #3B4455;\n",
       "    fill: #D2E3FC;\n",
       "  }\n",
       "\n",
       "  [theme=dark] .colab-df-quickchart:hover {\n",
       "    background-color: #434B5C;\n",
       "    box-shadow: 0px 1px 3px 1px rgba(0, 0, 0, 0.15);\n",
       "    filter: drop-shadow(0px 1px 2px rgba(0, 0, 0, 0.3));\n",
       "    fill: #FFFFFF;\n",
       "  }\n",
       "</style>\n",
       "\n",
       "    <script>\n",
       "      async function quickchart(key) {\n",
       "        const containerElement = document.querySelector('#' + key);\n",
       "        const charts = await google.colab.kernel.invokeFunction(\n",
       "            'suggestCharts', [key], {});\n",
       "      }\n",
       "    </script>\n",
       "\n",
       "      <script>\n",
       "\n",
       "function displayQuickchartButton(domScope) {\n",
       "  let quickchartButtonEl =\n",
       "    domScope.querySelector('#df-73b9a832-905b-4e12-a5a7-a1ef9cdaece9 button.colab-df-quickchart');\n",
       "  quickchartButtonEl.style.display =\n",
       "    google.colab.kernel.accessAllowed ? 'block' : 'none';\n",
       "}\n",
       "\n",
       "        displayQuickchartButton(document);\n",
       "      </script>\n",
       "      <style>\n",
       "    .colab-df-container {\n",
       "      display:flex;\n",
       "      flex-wrap:wrap;\n",
       "      gap: 12px;\n",
       "    }\n",
       "\n",
       "    .colab-df-convert {\n",
       "      background-color: #E8F0FE;\n",
       "      border: none;\n",
       "      border-radius: 50%;\n",
       "      cursor: pointer;\n",
       "      display: none;\n",
       "      fill: #1967D2;\n",
       "      height: 32px;\n",
       "      padding: 0 0 0 0;\n",
       "      width: 32px;\n",
       "    }\n",
       "\n",
       "    .colab-df-convert:hover {\n",
       "      background-color: #E2EBFA;\n",
       "      box-shadow: 0px 1px 2px rgba(60, 64, 67, 0.3), 0px 1px 3px 1px rgba(60, 64, 67, 0.15);\n",
       "      fill: #174EA6;\n",
       "    }\n",
       "\n",
       "    [theme=dark] .colab-df-convert {\n",
       "      background-color: #3B4455;\n",
       "      fill: #D2E3FC;\n",
       "    }\n",
       "\n",
       "    [theme=dark] .colab-df-convert:hover {\n",
       "      background-color: #434B5C;\n",
       "      box-shadow: 0px 1px 3px 1px rgba(0, 0, 0, 0.15);\n",
       "      filter: drop-shadow(0px 1px 2px rgba(0, 0, 0, 0.3));\n",
       "      fill: #FFFFFF;\n",
       "    }\n",
       "  </style>\n",
       "\n",
       "      <script>\n",
       "        const buttonEl =\n",
       "          document.querySelector('#df-d71de8ac-529e-4af9-81dd-e861ab52b1c8 button.colab-df-convert');\n",
       "        buttonEl.style.display =\n",
       "          google.colab.kernel.accessAllowed ? 'block' : 'none';\n",
       "\n",
       "        async function convertToInteractive(key) {\n",
       "          const element = document.querySelector('#df-d71de8ac-529e-4af9-81dd-e861ab52b1c8');\n",
       "          const dataTable =\n",
       "            await google.colab.kernel.invokeFunction('convertToInteractive',\n",
       "                                                     [key], {});\n",
       "          if (!dataTable) return;\n",
       "\n",
       "          const docLinkHtml = 'Like what you see? Visit the ' +\n",
       "            '<a target=\"_blank\" href=https://colab.research.google.com/notebooks/data_table.ipynb>data table notebook</a>'\n",
       "            + ' to learn more about interactive tables.';\n",
       "          element.innerHTML = '';\n",
       "          dataTable['output_type'] = 'display_data';\n",
       "          await google.colab.output.renderOutput(dataTable, element);\n",
       "          const docLink = document.createElement('div');\n",
       "          docLink.innerHTML = docLinkHtml;\n",
       "          element.appendChild(docLink);\n",
       "        }\n",
       "      </script>\n",
       "    </div>\n",
       "  </div>\n"
      ],
      "text/plain": [
       "            avg_rating  rating_count\n",
       "prod_id                             \n",
       "0594451647         5.0             1\n",
       "B003RRY9RS         5.0             1\n",
       "B003RR95Q8         5.0             1\n",
       "B003RIPMZU         5.0             1\n",
       "B003RFRNYQ         5.0             2"
      ]
     },
     "execution_count": 18,
     "metadata": {},
     "output_type": "execute_result"
    }
   ],
   "source": [
    "# Calculate the average rating for each product\n",
    "avg = df.groupby('prod_id').mean()['rating']\n",
    "# Calculate the count of ratings for each product\n",
    "ct = df.groupby('prod_id').count()['rating']\n",
    "# Create a dataframe with calculated average and count of ratings\n",
    "rating_df = pd.DataFrame({'avg_rating':avg, 'rating_count':ct})\n",
    "# Sort the dataframe by average of ratings in the descending order\n",
    "final_rating = rating_df.sort_values('avg_rating', ascending = False)\n",
    "# See the first five records of the \"final_rating\" dataset\n",
    "final_rating.head()"
   ]
  },
  {
   "cell_type": "code",
   "execution_count": null,
   "metadata": {
    "id": "zKU__5s1xhXi"
   },
   "outputs": [],
   "source": [
    "# Defining a function to get the top n products based on the highest average rating and minimum interactions\n",
    "def top_n_prod(final_rating, n, min_int):\n",
    "# Finding products with minimum number of interactions\n",
    "    rec = final_rating[final_rating['rating_count'] > min_int]\n",
    "# Sorting values with respect to average rating\n",
    "    rec = rec.sort_values(by = 'avg_rating', ascending = False)\n",
    "\n",
    "    return rec.index[:n]"
   ]
  },
  {
   "cell_type": "markdown",
   "metadata": {
    "id": "F8l6373PxhXi"
   },
   "source": [
    "### **Recommending top 5 products with 50 minimum interactions based on popularity**"
   ]
  },
  {
   "cell_type": "code",
   "execution_count": null,
   "metadata": {
    "colab": {
     "base_uri": "https://localhost:8080/"
    },
    "id": "dBxdLiM_xhXi",
    "outputId": "02f97430-f7df-4b19-a165-6cd054f55989"
   },
   "outputs": [
    {
     "data": {
      "text/plain": [
       "Index(['B001TH7GUU', 'B003ES5ZUU', 'B0019EHU8G', 'B006W8U2MU', 'B000QUUFRW'], dtype='object', name='prod_id')"
      ]
     },
     "execution_count": 20,
     "metadata": {},
     "output_type": "execute_result"
    }
   ],
   "source": [
    "top_n_prod(final_rating, 5, 50)"
   ]
  },
  {
   "cell_type": "markdown",
   "metadata": {
    "id": "l9_xW_UMxhXj"
   },
   "source": [
    "### **Recommending top 5 products with 100 minimum interactions based on popularity**"
   ]
  },
  {
   "cell_type": "code",
   "execution_count": null,
   "metadata": {
    "colab": {
     "base_uri": "https://localhost:8080/"
    },
    "id": "dZgGZCUoxhXj",
    "outputId": "cfb9f4d3-7758-4bea-c67c-d2cdd58010aa"
   },
   "outputs": [
    {
     "data": {
      "text/plain": [
       "Index(['B003ES5ZUU', 'B000N99BBC', 'B007WTAJTO', 'B002V88HFE', 'B004CLYEDC'], dtype='object', name='prod_id')"
      ]
     },
     "execution_count": 21,
     "metadata": {},
     "output_type": "execute_result"
    }
   ],
   "source": [
    "top_n_prod(final_rating, 5, 100)"
   ]
  },
  {
   "cell_type": "markdown",
   "metadata": {
    "id": "BL-m68a15JtT",
    "outputId": "69132b0f-8d3f-4798-f6a0-249e17a3c822"
   },
   "source": [
    "We have recommended the **top 5** products by using the popularity recommendation system. Now, let's build a recommendation system using **collaborative filtering.**"
   ]
  },
  {
   "cell_type": "markdown",
   "metadata": {
    "id": "sJI5kiiGvOOK"
   },
   "source": [
    "## **Model 2: Collaborative Filtering Recommendation System**"
   ]
  },
  {
   "cell_type": "markdown",
   "metadata": {
    "id": "skzc0N1_nVNB"
   },
   "source": [
    "### **Building a baseline user-user similarity based recommendation system**"
   ]
  },
  {
   "cell_type": "markdown",
   "metadata": {
    "id": "d4Uo_MYMnVNB"
   },
   "source": [
    "- Below, we are building **similarity-based recommendation systems** using `cosine` similarity and using **KNN to find similar users** which are the nearest neighbor to the given user.  \n",
    "- We will be using a new library, called `surprise`, to build the remaining models. Let's first import the necessary classes and functions from this library."
   ]
  },
  {
   "cell_type": "code",
   "execution_count": 5,
   "metadata": {
    "id": "UJ1wEylUpexj"
   },
   "outputs": [],
   "source": [
    "# To compute the accuracy of models\n",
    "from surprise import accuracy\n",
    "\n",
    "# Class is used to parse a file containing ratings, data should be in structure - user ; item ; rating\n",
    "from surprise.reader import Reader\n",
    "\n",
    "# Class for loading datasets\n",
    "from surprise.dataset import Dataset\n",
    "\n",
    "# For tuning model hyperparameters\n",
    "from surprise.model_selection import GridSearchCV\n",
    "\n",
    "# For splitting the rating data in train and test datasets\n",
    "from surprise.model_selection import train_test_split\n",
    "\n",
    "# For implementing similarity-based recommendation system\n",
    "from surprise.prediction_algorithms.knns import KNNBasic\n",
    "\n",
    "# For implementing matrix factorization based recommendation system\n",
    "from surprise.prediction_algorithms.matrix_factorization import SVD\n",
    "\n",
    "# for implementing K-Fold cross-validation\n",
    "from surprise.model_selection import KFold\n",
    "\n",
    "# For implementing clustering-based recommendation system\n",
    "from surprise import CoClustering"
   ]
  },
  {
   "cell_type": "markdown",
   "metadata": {
    "id": "54MqVAtDTsnl"
   },
   "source": [
    "**Before building the recommendation systems, let's  go over some basic terminologies we are going to use:**"
   ]
  },
  {
   "cell_type": "markdown",
   "metadata": {
    "id": "Qsxb3xhnTsnl"
   },
   "source": [
    "**Relevant item:** An item (product in this case) that is actually **rated higher than the threshold rating** is relevant, if the **actual rating is below the threshold then it is a non-relevant item**.  \n",
    "\n",
    "**Recommended item:** An item that's **predicted rating is higher than the threshold is a recommended item**, if the **predicted rating is below the threshold then that product will not be recommended to the user**.  \n"
   ]
  },
  {
   "cell_type": "markdown",
   "metadata": {
    "id": "moyLUHCuTsnl"
   },
   "source": [
    "**False Negative (FN):** It is the **frequency of relevant items that are not recommended to the user**. If the relevant items are not recommended to the user, then the user might not buy the product/item. This would result in the **loss of opportunity for the service provider**, which they would like to minimize.\n",
    "\n",
    "**False Positive (FP):** It is the **frequency of recommended items that are actually not relevant**. In this case, the recommendation system is not doing a good job of finding and recommending the relevant items to the user. This would result in **loss of resources for the service provider**, which they would also like to minimize."
   ]
  },
  {
   "cell_type": "markdown",
   "metadata": {
    "id": "Yuvc2VaZTsnl"
   },
   "source": [
    "**Recall:** It is the **fraction of actually relevant items that are recommended to the user**, i.e., if out of 10 relevant products, 6 are recommended to the user then recall is 0.60. Higher the value of recall better is the model. It is one of the metrics to do the performance assessment of classification models.\n",
    "\n",
    "**Precision:** It is the **fraction of recommended items that are relevant actually**, i.e., if out of 10 recommended items, 6 are found relevant by the user then precision is 0.60. The higher the value of precision better is the model. It is one of the metrics to do the performance assessment of classification models."
   ]
  },
  {
   "cell_type": "markdown",
   "metadata": {
    "id": "8NLc36Y8Tsnm"
   },
   "source": [
    "**While making a recommendation system, it becomes customary to look at the performance of the model. In terms of how many recommendations are relevant and vice-versa, below are some most used performance metrics used in the assessment of recommendation systems.**"
   ]
  },
  {
   "cell_type": "markdown",
   "metadata": {
    "id": "cqF8fRBqTsnm"
   },
   "source": [
    "### **Precision@k, Recall@ k, and F1-score@k**"
   ]
  },
  {
   "cell_type": "markdown",
   "metadata": {
    "id": "imMJNF0HTsnm"
   },
   "source": [
    "**Precision@k** - It is the **fraction of recommended items that are relevant in `top k` predictions**. The value of k is the number of recommendations to be provided to the user. One can choose a variable number of recommendations to be given to a unique user.  \n",
    "\n",
    "\n",
    "**Recall@k** - It is the **fraction of relevant items that are recommended to the user in `top k` predictions**.\n",
    "\n",
    "**F1-score@k** - It is the **harmonic mean of Precision@k and Recall@k**. When **precision@k and recall@k both seem to be important** then it is useful to use this metric because it is representative of both of them."
   ]
  },
  {
   "cell_type": "markdown",
   "metadata": {
    "id": "jBW4BUhWTsnm"
   },
   "source": [
    "### **Some useful functions**"
   ]
  },
  {
   "cell_type": "markdown",
   "metadata": {
    "id": "QOBHKh0eTsnm"
   },
   "source": [
    "- Below function takes the **recommendation model** as input and gives the **precision@k, recall@k, and F1-score@k** for that model.  \n",
    "- To compute **precision and recall**, **top k** predictions are taken under consideration for each user.\n",
    "- We will use the precision and recall to compute the F1-score."
   ]
  },
  {
   "cell_type": "code",
   "execution_count": 6,
   "metadata": {
    "id": "Rxn-GahOTsnm"
   },
   "outputs": [],
   "source": [
    "def precision_recall_at_k(model, k = 10, threshold = 3.5):\n",
    "    \"\"\"Return precision and recall at k metrics for each user\"\"\"\n",
    "\n",
    "    # First map the predictions to each user\n",
    "    user_est_true = defaultdict(list)\n",
    "\n",
    "    # Making predictions on the test data\n",
    "    predictions = model.test(testset)\n",
    "\n",
    "    for uid, _, true_r, est, _ in predictions:\n",
    "        user_est_true[uid].append((est, true_r))\n",
    "\n",
    "    precisions = dict()\n",
    "    recalls = dict()\n",
    "    for uid, user_ratings in user_est_true.items():\n",
    "\n",
    "        # Sort user ratings by estimated value\n",
    "        user_ratings.sort(key = lambda x: x[0], reverse = True)\n",
    "\n",
    "        # Number of relevant items\n",
    "        n_rel = sum((true_r >= threshold) for (_, true_r) in user_ratings)\n",
    "\n",
    "        # Number of recommended items in top k\n",
    "        n_rec_k = sum((est >= threshold) for (est, _) in user_ratings[:k])\n",
    "\n",
    "        # Number of relevant and recommended items in top k\n",
    "        n_rel_and_rec_k = sum(((true_r >= threshold) and (est >= threshold))\n",
    "                              for (est, true_r) in user_ratings[:k])\n",
    "\n",
    "        # Precision@K: Proportion of recommended items that are relevant\n",
    "        # When n_rec_k is 0, Precision is undefined. Therefore, we are setting Precision to 0 when n_rec_k is 0\n",
    "\n",
    "        precisions[uid] = n_rel_and_rec_k / n_rec_k if n_rec_k != 0 else 0\n",
    "\n",
    "        # Recall@K: Proportion of relevant items that are recommended\n",
    "        # When n_rel is 0, Recall is undefined. Therefore, we are setting Recall to 0 when n_rel is 0\n",
    "\n",
    "        recalls[uid] = n_rel_and_rec_k / n_rel if n_rel != 0 else 0\n",
    "\n",
    "    # Mean of all the predicted precisions are calculated.\n",
    "    precision = round((sum(prec for prec in precisions.values()) / len(precisions)), 3)\n",
    "\n",
    "    # Mean of all the predicted recalls are calculated.\n",
    "    recall = round((sum(rec for rec in recalls.values()) / len(recalls)), 3)\n",
    "\n",
    "    accuracy.rmse(predictions)\n",
    "\n",
    "    print('Precision: ', precision) # Command to print the overall precision\n",
    "\n",
    "    print('Recall: ', recall) # Command to print the overall recall\n",
    "\n",
    "    print('F_1 score: ', round((2*precision*recall)/(precision+recall), 3)) # Formula to compute the F-1 score"
   ]
  },
  {
   "cell_type": "markdown",
   "metadata": {
    "id": "_ZmsamDVyek-"
   },
   "source": [
    "**Hints:**\n",
    "\n",
    "- To compute **precision and recall**, a **threshold of 3.5 and k value of 10 can be considered for the recommended and relevant ratings**.\n",
    "- Think about the performance metric to choose."
   ]
  },
  {
   "cell_type": "markdown",
   "metadata": {
    "id": "8hxjJMTwnVNB"
   },
   "source": [
    "Below we are loading the **`rating` dataset**, which is a **pandas DataFrame**, into a **different format called `surprise.dataset.DatasetAutoFolds`**, which is required by this library. To do this, we will be **using the classes `Reader` and `Dataset`.**"
   ]
  },
  {
   "cell_type": "code",
   "execution_count": 7,
   "metadata": {
    "id": "rGfYDiOCpe4X"
   },
   "outputs": [],
   "source": [
    "# Instantiating Reader scale with expected rating scale\n",
    "reader = Reader(rating_scale = (1, 5))\n",
    "# Loading the rating dataset\n",
    "data = Dataset.load_from_df(df[['user_id', 'prod_id', 'rating']], reader)\n",
    "# Splitting the data into train and test datasets\n",
    "trainset, testset = train_test_split(data, test_size = 0.25, random_state = 42)"
   ]
  },
  {
   "cell_type": "markdown",
   "metadata": {
    "id": "DmHTEt7TnVNC"
   },
   "source": [
    "Now, we are **ready to build the first baseline similarity-based recommendation system** using the cosine similarity."
   ]
  },
  {
   "cell_type": "markdown",
   "metadata": {
    "id": "SVDfVHB4tQfU"
   },
   "source": [
    "### **Building the user-user Similarity-based Recommendation System**"
   ]
  },
  {
   "cell_type": "code",
   "execution_count": null,
   "metadata": {
    "colab": {
     "base_uri": "https://localhost:8080/"
    },
    "id": "vO3FL7iape8A",
    "outputId": "5b8587ca-47f6-4e38-98e8-294fd1a6ad9c",
    "scrolled": false
   },
   "outputs": [
    {
     "name": "stdout",
     "output_type": "stream",
     "text": [
      "RMSE: 1.1124\n",
      "Precision:  0.849\n",
      "Recall:  0.608\n",
      "F_1 score:  0.709\n"
     ]
    }
   ],
   "source": [
    "# Declaring the similarity options\n",
    "so = {'name': 'cosine', 'user_based': True}\n",
    "\n",
    "# Initialize the KNNBasic model using sim_options declared, Verbose = False, and setting random_state = 1\n",
    "knn_model = KNNBasic(sim_options = so, verbose = False, random_state = 1)\n",
    "\n",
    "# Fit the model on the training data\n",
    "knn_model.fit(trainset)\n",
    "\n",
    "# Let us compute precision@k, recall@k, and f_1 score using the precision_recall_at_k function defined above\n",
    "precision_recall_at_k(knn_model)"
   ]
  },
  {
   "cell_type": "markdown",
   "metadata": {
    "id": "nEuJK_A9Tsnn"
   },
   "source": [
    "**Write your observations here: The KNNBasic model has an RMSE of 1.1124, a precision of 0.849, a recall of 0.608, and an F1 score of 0.709.**"
   ]
  },
  {
   "cell_type": "markdown",
   "metadata": {
    "id": "reFD0-nsnVNC"
   },
   "source": [
    "Let's now **predict rating for a user with `userId=A3LDPF5FMB782Z` and `productId=1400501466`** as shown below. Here the user has already interacted or watched the product with productId '1400501466' and given a rating of 5."
   ]
  },
  {
   "cell_type": "code",
   "execution_count": null,
   "metadata": {
    "colab": {
     "base_uri": "https://localhost:8080/"
    },
    "id": "Sxd23bZ9pe_x",
    "outputId": "71524f23-adf4-43fd-d631-fb576f6c0d64"
   },
   "outputs": [
    {
     "name": "stdout",
     "output_type": "stream",
     "text": [
      "user: A3LDPF5FMB782Z item: 1400501466 r_ui = 5.00   est = 3.33   {'actual_k': 6, 'was_impossible': False}\n"
     ]
    },
    {
     "data": {
      "text/plain": [
       "Prediction(uid='A3LDPF5FMB782Z', iid='1400501466', r_ui=5, est=3.3333333333333335, details={'actual_k': 6, 'was_impossible': False})"
      ]
     },
     "execution_count": 26,
     "metadata": {},
     "output_type": "execute_result"
    }
   ],
   "source": [
    "# Predicting rating for a sample user with an interacted product\n",
    "knn_model.predict('A3LDPF5FMB782Z', '1400501466', r_ui = 5, verbose = True)"
   ]
  },
  {
   "cell_type": "markdown",
   "metadata": {
    "id": "ENJcqG_wemRH"
   },
   "source": [
    "**Write your observations here: The actual rating is 5 and predicted rating is 3.33, so there is a significant difference.**"
   ]
  },
  {
   "cell_type": "markdown",
   "metadata": {
    "id": "cj6ecbglTsno"
   },
   "source": [
    "Below is the **list of users who have not seen the product with product id \"1400501466\"**."
   ]
  },
  {
   "cell_type": "code",
   "execution_count": null,
   "metadata": {
    "colab": {
     "base_uri": "https://localhost:8080/"
    },
    "id": "xCRBMD-RTsno",
    "outputId": "9e7f263f-0131-4f6d-b38c-84a1be476156"
   },
   "outputs": [
    {
     "data": {
      "text/plain": [
       "['A3BY5KCNQZXV5U',\n",
       " 'AT09WGFUM934H',\n",
       " 'A32HSNCNPRUMTR',\n",
       " 'A17HMM1M7T9PJ1',\n",
       " 'A3CLWR1UUZT6TG',\n",
       " 'A3TAS1AG6FMBQW',\n",
       " 'A2Y4H3PXB07WQI',\n",
       " 'A25RTRAPQAJBDJ',\n",
       " 'A3LDPF5FMB782Z',\n",
       " 'A18S2VGUH9SCV5',\n",
       " 'A1K4G5YJDJQI6Q',\n",
       " 'A1PPS91NLI7KEH',\n",
       " 'A2ZR3YTMEEIIZ4',\n",
       " 'A5JLAU2ARJ0BO',\n",
       " 'A1P4XD7IORSEFN',\n",
       " 'A341HCMGNZCBIT',\n",
       " 'A3HPCRD9RX351S',\n",
       " 'A20UU20K7M9ZPF',\n",
       " 'A1DQHS7MOVYYYA',\n",
       " 'ALUNVOQRXOZIA',\n",
       " 'A19N3S7CBSU6O7',\n",
       " 'A3G7BEJJCPD6DS',\n",
       " 'A2JXS1JII6SAUD',\n",
       " 'A2JOPUWVV0XQJ3',\n",
       " 'A3PD8JD9L4WEII',\n",
       " 'ABVYGB2TKBO8F',\n",
       " 'A1NAA1R38JSNHV',\n",
       " 'A1U5IJHJK84S54',\n",
       " 'A30X750M8V1XXW',\n",
       " 'A3QQGPI3CTV9SX',\n",
       " 'A2JWF9IG8PJAOA',\n",
       " 'A1ZU55TM45Y2R8',\n",
       " 'A1VQHH85U7PX0',\n",
       " 'A5A4374R8I7NB',\n",
       " 'A10X9ME6R66JDX',\n",
       " 'A14I1F2H7NOYDC',\n",
       " 'A328GLDSDNFYII',\n",
       " 'AAEVGE52KL0DJ',\n",
       " 'A36K2N527TXXJN',\n",
       " 'ADLVFFE4VBT8',\n",
       " 'A3OZA8HNJM26DC',\n",
       " 'A19HT7YC1UW3D6',\n",
       " 'A16HXVNPU5TCGE',\n",
       " 'A250AXLRBVYKB4',\n",
       " 'A1C82BC5GNABOA',\n",
       " 'A1VHCO8RQFIGQJ',\n",
       " 'A2Z9S2RQD542CP',\n",
       " 'A2QIC4G483SQQA',\n",
       " 'A3L6L5O89JTX2T',\n",
       " 'A1OGCPMSIVK7G4',\n",
       " 'A18HE80910BTZI',\n",
       " 'A3F9CBHV4OHFBS',\n",
       " 'A2WXURU33RBGQS',\n",
       " 'A1D27BCSYV7VWH',\n",
       " 'A2IXK5LB4Y0NYV',\n",
       " 'A3EX8ZFNVDHGPM',\n",
       " 'A274MXTX3DYLUV',\n",
       " 'A1KY5G5FP31F2F',\n",
       " 'A2AEZQ3DGBBLPR',\n",
       " 'A2HDTOF8222KN3',\n",
       " 'A2R6RA8FRBS608',\n",
       " 'A26KXNN6H1IL0I',\n",
       " 'AVSMRPI23DQI2',\n",
       " 'A2NX6MFZP8TM6S',\n",
       " 'ADOR3TR7GDF68',\n",
       " 'A680RUE1FDO8B',\n",
       " 'A11D1KHM7DVOQK',\n",
       " 'A8X8D4BUY5DFU',\n",
       " 'A3CG93783LP0FO',\n",
       " 'A2SATO5BNKWY3Y',\n",
       " 'A2ZY49IDE6TY5I',\n",
       " 'A1N3EH28S4DI8L',\n",
       " 'AEJAGHLC675A7',\n",
       " 'A1T1YSCDW0PD25',\n",
       " 'A11ED8O95W2103',\n",
       " 'A3NCIN6TNL0MGA',\n",
       " 'ASHJAZC9OA9NS',\n",
       " 'ARXU3FESTWMJJ',\n",
       " 'ATDE9JYCPI0L1',\n",
       " 'AZ515FFZ7I2P7',\n",
       " 'A6FIAB28IS79',\n",
       " 'A1X3DA7C61WZLQ',\n",
       " 'A1RPTVW5VEOSI',\n",
       " 'A3NEAETOSXDBOM',\n",
       " 'A7Y6AVS576M03',\n",
       " 'AQ3IN3MRXQ5KH',\n",
       " 'A2HMF8ZR67BNZS',\n",
       " 'AZMY6E8B52L2T',\n",
       " 'AFXTKAO0CB354',\n",
       " 'A1PAGHECG401K1',\n",
       " 'AFNG8O2DXRCUV',\n",
       " 'AWPODHOB4GFWL',\n",
       " 'A2TN0U8173HM7A',\n",
       " 'ASCBJEPXTOU0V',\n",
       " 'A2BYV7S1QP2YIG',\n",
       " 'A3BI8BKIHESDNQ',\n",
       " 'A2QAOP52OEB5EV',\n",
       " 'AKT8TGIT6VVZ5',\n",
       " 'A2NYK9KWFMJV4Y',\n",
       " 'A2DF62DP20RIXF',\n",
       " 'A19HKRB4LU5YR',\n",
       " 'A2HXEJXEQQTM1D',\n",
       " 'A2NB2E5DXE319Z',\n",
       " 'A87N6UTYA6NOB',\n",
       " 'AK9BXHEXOOM6Z',\n",
       " 'A1MQQEM7W77L62',\n",
       " 'A231WM2Z2JL0U3',\n",
       " 'A2B7BUH8834Y6M',\n",
       " 'A14JBDSWKPKTZA',\n",
       " 'AEZJTA4KDIWY8',\n",
       " 'A3QNX5KWHDV0GD',\n",
       " 'A1J75JJ0Q2OEJN',\n",
       " 'A105TOJ6LTVMBG',\n",
       " 'A3QX0ERX4D03TF',\n",
       " 'A13WREJ05GMRA6',\n",
       " 'A3N8O68DOEQ2FE',\n",
       " 'A3J8A5L5AF5TX9',\n",
       " 'A2HRHF83I3NDGT',\n",
       " 'A2TKWMX4563NR6',\n",
       " 'A1TQBAHI3M4ZBQ',\n",
       " 'A38QEATH3NODFM',\n",
       " 'AQ55H30MZSV0Q',\n",
       " 'A3MV1KKHX51FYT',\n",
       " 'A3A15L96IYUO6V',\n",
       " 'A3NHUQ33CFH3VM',\n",
       " 'A1GBT4UN2RW7XY',\n",
       " 'A2V1J3JT5OOZFO',\n",
       " 'A3REK3OFONWB1Q',\n",
       " 'A1MJMYLRTZ76ZX',\n",
       " 'A32JCI4AK2JTTG',\n",
       " 'A2HPJKM7L4EOQB',\n",
       " 'A1KD8NJPZ01R37',\n",
       " 'A1V3TRGWOMA8LC',\n",
       " 'A1F1A0QQP2XVH5',\n",
       " 'AT2J7H5TRZM8Z',\n",
       " 'A9ELHLPXF7JKD',\n",
       " 'A335QXPTV1RIV1',\n",
       " 'A1EH2S92FHWZRP',\n",
       " 'A2KIJBT9HRIOM8',\n",
       " 'AZBXKUH4AIW3X',\n",
       " 'A3NVZTGPORNPRW',\n",
       " 'A3EQQHWJ1EEYEU',\n",
       " 'A11P105WVK5240',\n",
       " 'A19XMHRB3G4DIR',\n",
       " 'A2KZOIOFXXMC1H',\n",
       " 'A149RNR5RH19YY',\n",
       " 'A28621TSIR5EOG',\n",
       " 'AMZCZBK1EF1PV',\n",
       " 'A1IU7S4HCK1XK0',\n",
       " 'A13BX9O5UDBILC',\n",
       " 'A2THQCHKR89E16',\n",
       " 'A209G57KXCBF4C',\n",
       " 'A2X8KN82L07RSK',\n",
       " 'A1R3GN9MEJFXM3',\n",
       " 'A3963R7EPE3A7E',\n",
       " 'AAW7X3GRD8GY9',\n",
       " 'A3V8P0O224OBDB',\n",
       " 'AY6A8KPYCE6B0',\n",
       " 'A212MDP6K4VJS5',\n",
       " 'A28X0LT2100RL1',\n",
       " 'A1NZLRAZJGD99W',\n",
       " 'A1522TN5FVJL0Y',\n",
       " 'A3UXW18DP4WSD6',\n",
       " 'A2I5LVVQ7WXEH6',\n",
       " 'A1F9Z42CFF9IAY',\n",
       " 'A31BD4RXCON7QO',\n",
       " 'A1435P5AMCPB3X',\n",
       " 'A2K5RRMPICZ606',\n",
       " 'AFQBS241UKPAZ',\n",
       " 'A29GWIJL72GXXZ',\n",
       " 'A7EJERNB7IK3Z',\n",
       " 'A2YHXGPCTENZY3',\n",
       " 'A3KTWUXXB8KKC7',\n",
       " 'A3D5B2CBFNJB0K',\n",
       " 'AEL6CQNQXONBX',\n",
       " 'A3OXHLG6DIBRW8',\n",
       " 'A1BC62X6HZJGZR',\n",
       " 'A39K52QDP4C3ZS',\n",
       " 'A3LQUEB84IR3VO',\n",
       " 'A1ILWPH1GHUXE2',\n",
       " 'A3JAH5WW61N2EK',\n",
       " 'A1PSVZBM894R5H',\n",
       " 'A3F3B6HY9RJI04',\n",
       " 'A4GGT6O0GQNV2',\n",
       " 'A2IFGGXG3YV3Y6',\n",
       " 'A1U5NWJOYH2QQH',\n",
       " 'A12DLJESJKM1OQ',\n",
       " 'AT28RL25Q2OLK',\n",
       " 'ANTGGAQYPSWHF',\n",
       " 'A12LH2100CKQO',\n",
       " 'A3CW0ZLUO5X2B1',\n",
       " 'A3TBMGNSEQBWIL',\n",
       " 'A22CW0ZHY3NJH8',\n",
       " 'AZAC8O310IK4E',\n",
       " 'A3VZH0PWLQ9BB1',\n",
       " 'A16C19G0I2DE8S',\n",
       " 'A2WDCAMKCCP1UR',\n",
       " 'A33CNFK776MTWR',\n",
       " 'A21VM9WVF8EOSJ',\n",
       " 'A95PWI4S6WHGL',\n",
       " 'A1OO9N1MRNQ7K0',\n",
       " 'AOVTLYTHVDNUX',\n",
       " 'A3VONQL7YW8UPM',\n",
       " 'A2V7EO331SFUF6',\n",
       " 'A3977M5S0GIG5H',\n",
       " 'A2QI2NTDTMK2FV',\n",
       " 'A3PCEB9ND82AGE',\n",
       " 'A3EXWV8FNSSFL6',\n",
       " 'A1P3DDFL423B3C',\n",
       " 'A3W4D8XOGLWUN5',\n",
       " 'A57Q87B0TC9IJ',\n",
       " 'A2RGWCT6K2C3EZ',\n",
       " 'A3LWC833HQIG7J',\n",
       " 'A38RMU1Y5TDP9',\n",
       " 'A3D822N1K2IAQD',\n",
       " 'A33775AIB1A664',\n",
       " 'A3PGVJF37JSHFO',\n",
       " 'A2WJ5XSE4I9F55',\n",
       " 'A1V5TRJXTI6F01',\n",
       " 'ATOKT8QYK967L',\n",
       " 'ANRS196NKFVUU',\n",
       " 'A3639Z6O5JBLIZ',\n",
       " 'A3ER6ARJ23CIN8',\n",
       " 'A33152QEGO2MZN',\n",
       " 'A3HRDRQ5VAFPQS',\n",
       " 'AUCIFMWP3DU8R',\n",
       " 'ALHC64J88LVWO',\n",
       " 'A2PC9ZZIFV31B1',\n",
       " 'A54S9CIUV5VNB',\n",
       " 'A1XE3M22N91451',\n",
       " 'A313H6238N589',\n",
       " 'A3SDJ70H00OQCJ',\n",
       " 'A2WB7LZ595CR50',\n",
       " 'A356RFKNIG043B',\n",
       " 'AW6A4PPENVZY3',\n",
       " 'A32LX4XJ2LU740',\n",
       " 'A2RWHTNM5P3I8Y',\n",
       " 'A3077MQTAKOVFZ',\n",
       " 'A1FF2PLA84KNAE',\n",
       " 'A3B20R4ZAH0Y2Y',\n",
       " 'ARTA78TP6H73D',\n",
       " 'A2CL818RN52NWN',\n",
       " 'AA91O96C1Z18W',\n",
       " 'A3Q1J68QY1MZQ9',\n",
       " 'A2V0I904FH7ABY',\n",
       " 'A22R9L5DAVYYWR',\n",
       " 'A1QVFHPY8418HC',\n",
       " 'A3V6Z4RCDGRC44',\n",
       " 'A12DQZKRKTNF5E',\n",
       " 'A3TNM3C9ENUCFW',\n",
       " 'A3FKQQTSMHOCE0',\n",
       " 'A3KZEGBTPH6MMF',\n",
       " 'A2JP9E1H0SF392',\n",
       " 'A2U3OEIK1CUPIK',\n",
       " 'A3N0P5AAMP6XD2',\n",
       " 'A13EQE9EY2ET93',\n",
       " 'A1CM4HI4S5P0WO',\n",
       " 'A3775OP5VTX5ON',\n",
       " 'A1B6O7SAIYG2N0',\n",
       " 'A1KDUQ2HU0WD68',\n",
       " 'A3H6NNGCINPLEC',\n",
       " 'A3RGHO0Q938FRS',\n",
       " 'A1LHMSY3Q46PJS',\n",
       " 'A18EA7MNLXP9H5',\n",
       " 'A1B4MIXYVIKMU2',\n",
       " 'A2BMZRO0H7TFCS',\n",
       " 'A2EZTM9WY5B5IL',\n",
       " 'A298GL2D0BHGKZ',\n",
       " 'A34LQ791ACZ0JC',\n",
       " 'A1ZM846Y7AUYD',\n",
       " 'A2IIAQ7VVAHXTD',\n",
       " 'A1U4GOVZWL8ZTL',\n",
       " 'A2MCRCK1V61FWQ',\n",
       " 'A32AFX2PUJ82HG',\n",
       " 'A2BGZ52M908MJY',\n",
       " 'ACH055GTTIGC9',\n",
       " 'AUCISQA1YXX86',\n",
       " 'APQQK1V695AUE',\n",
       " 'A2QI2JHSIQ3SN3',\n",
       " 'A506HOOCVL8GW',\n",
       " 'A3GQY0TFRG0MPZ',\n",
       " 'A54SG05AV6S4H',\n",
       " 'A1URXSRV6WDHVY',\n",
       " 'A1B8EJQU73YGL9',\n",
       " 'A2WLNSZ9U0T1S3',\n",
       " 'A2T3S3VTW65VO5',\n",
       " 'A1V4VVBQBFXRHC',\n",
       " 'AS8C336DDLSO4',\n",
       " 'A23ONMGKEWDG4M',\n",
       " 'A145LBW8ZHF0TW',\n",
       " 'A32QOZWIKQDNZX',\n",
       " 'A3CMO216CWOF5N',\n",
       " 'A2BCDZO1XQLDH',\n",
       " 'AW68KVDV7BBRS',\n",
       " 'A2MOJANFPX353G',\n",
       " 'A3DQWFWINN3V5A',\n",
       " 'AN81JUYW2SL24',\n",
       " 'A2PK64OVZA1U8Z',\n",
       " 'A3LGT6UZL99IW1',\n",
       " 'A11KZ906QD08C5',\n",
       " 'A2AF0NOCM71J0B',\n",
       " 'A2EF8N7ZE7ONWX',\n",
       " 'AE88D7OM7YU99',\n",
       " 'A1CYTBE7LLUQ8F',\n",
       " 'AOEAD7DPLZE53',\n",
       " 'A1TDR7Y90SVCHL',\n",
       " 'A31N0XY2UTB25C',\n",
       " 'A3J2YU2D9BH2J7',\n",
       " 'A4IL0CLL27Q33',\n",
       " 'AAR7CEPXYJA0T',\n",
       " 'A100WO06OQR8BQ',\n",
       " 'A3NGOG8Z78AZSD',\n",
       " 'A1R19YYR5OR26T',\n",
       " 'A2MOD50IHEDH3G',\n",
       " 'AGHZXQL9F94T9',\n",
       " 'AKSFZ4G1AXYFC',\n",
       " 'A203OCQQ12MAVT',\n",
       " 'A10PEXB6XAQ5XF',\n",
       " 'A3L9E0YI7C5G0W',\n",
       " 'ABMF4UC4Z00NT',\n",
       " 'AHIK7BUXFRMT8',\n",
       " 'A23GFTVIETX7DS',\n",
       " 'A3HC7NWLKCPX4X',\n",
       " 'AZOK5STV85FBJ',\n",
       " 'AMKNPIDFLRFMP',\n",
       " 'A2M9ME0N2S3R39',\n",
       " 'A2Y739CRM15WDL',\n",
       " 'AHNHLGKIZ2N3B',\n",
       " 'A3QMJMTLJC34QC',\n",
       " 'A2YRX8J4WM5BRX',\n",
       " 'AYMD77ITD15PT',\n",
       " 'A2RW587355CMVA',\n",
       " 'A2X61KKXXR6WNP',\n",
       " 'A1DO9LRCO23EOM',\n",
       " 'A3QDY9I0CNMD2W',\n",
       " 'A1UNJ46NSB352E',\n",
       " 'AT6CZDCP4TRGA',\n",
       " 'A34UVV757IKPVB',\n",
       " 'A2ED50E3KWKUKW',\n",
       " 'A21NS06GDEA3V0',\n",
       " 'ASJSX783R5HTZ',\n",
       " 'A15XI2BEGGFEOW',\n",
       " 'AZCE11PSTCH1L',\n",
       " 'A6TBR6L2D4XKC',\n",
       " 'A3QU3O79AGNWCY',\n",
       " 'A3DGJMO6VPG6FJ',\n",
       " 'A291XTI6NO7DEG',\n",
       " 'A1NNMOD9H36Q8E',\n",
       " 'AOWF9T81XMX2S',\n",
       " 'A3OA4DV4L81N1D',\n",
       " 'A3T4OHEAHOJ700',\n",
       " 'A2NX6PABLIJLP1',\n",
       " 'A1XK4VP74IB9TQ',\n",
       " 'A6VPK7X53QNAQ',\n",
       " 'A1VJ0V58N0698J',\n",
       " 'A30J7WQV0ZNRXG',\n",
       " 'A141OPVE376YFI',\n",
       " 'APOGXH3A74CM3',\n",
       " 'A1PN2U0AWXGVML',\n",
       " 'A1QRST0A3IQIEF',\n",
       " 'A1OMXVXXP07F05',\n",
       " 'A2NOW4U7W3F7RI',\n",
       " 'A1IBKN1GXYJ3K4',\n",
       " 'A259MPG6SOL02P',\n",
       " 'A1AQ8JT2A3UWMY',\n",
       " 'A11LNPG39A2ZV4',\n",
       " 'A6VXZ1EEPRTLV',\n",
       " 'A1LA4K5JF78BER',\n",
       " 'AJCR7L4AXL2OG',\n",
       " 'A2SKEQT0WTB954',\n",
       " 'ARC5ASW9CUAGP',\n",
       " 'A3AGQAXTX6VRJ3',\n",
       " 'A1R377IPZOKLMM',\n",
       " 'AGEWOMQ90BV8R',\n",
       " 'A3EP26M3QHINXT',\n",
       " 'A1ODOGXEYECQQ8',\n",
       " 'A87CILADRIZW0',\n",
       " 'A3EZEP0FX5BC1P',\n",
       " 'A3GFQHHVMEAIO',\n",
       " 'A1JWSDDIH5Z7DV',\n",
       " 'A2SL5IW096Z2BL',\n",
       " 'AUITG1DJ3QUGK',\n",
       " 'A3TPNC3TKGCCEI',\n",
       " 'A1EXGL6L0QQ0M5',\n",
       " 'A1GNYV0RA0EQSS',\n",
       " 'A1SDPA1J98UP4L',\n",
       " 'AD8DLOGHAXL',\n",
       " 'A200RY2ELZL2Q3',\n",
       " 'A25HBO5V8S8SEA',\n",
       " 'A1TR1R2QKWRSRA',\n",
       " 'A1EKSETIBS9ETQ',\n",
       " 'A2TVJ0YDW3QO63',\n",
       " 'A2I18AO597DSDI',\n",
       " 'AGXMC3ITWZASE',\n",
       " 'A3D7BGK0P5QY0X',\n",
       " 'A3HXGSMCIOZEW8',\n",
       " 'A1PL7QILVQV3IF',\n",
       " 'A1R6RKKE44AYA8',\n",
       " 'A2DXENZNO2JT4F',\n",
       " 'A225G2TFM76GYX',\n",
       " 'AO8NH0BV82XIE',\n",
       " 'A27Y4OEC9MD9PA',\n",
       " 'A2NVQZ4Y7Y0J1R',\n",
       " 'AI0BCEWRE04G0',\n",
       " 'A110PC8C5Y7MQD',\n",
       " 'AAQ9NJ480N9W5',\n",
       " 'A19W47CXJJP1MI',\n",
       " 'A1Z7U9K6X3FEOU',\n",
       " 'A1L1N3J6XNABO2',\n",
       " 'A1SX9PHJWTDMF9',\n",
       " 'A35W3JQYP0M655',\n",
       " 'A3TA1UJWRJF9NC',\n",
       " 'A35HUT8MQMT21L',\n",
       " 'A3T7V207KRDE2O',\n",
       " 'A3FS3FJPD3RJTD',\n",
       " 'AN9CP6J4JF91X',\n",
       " 'A365PBEOWM7EI7',\n",
       " 'A3INN916E4VION',\n",
       " 'A3UW23DBF2KHWC',\n",
       " 'A294BKN913UOGP',\n",
       " 'A3D2VIUT2HWP0Z',\n",
       " 'AULFLNWJP1QXY',\n",
       " 'A4WEZJOIZIV4U',\n",
       " 'A1C5WS021EL3WO',\n",
       " 'A17Z0LVY96TO53',\n",
       " 'A2UQK3DAZ8NO2T',\n",
       " 'A5KMMY627T3W',\n",
       " 'A5MCDQ60DWUEV',\n",
       " 'A1HSM98KUGTHNY',\n",
       " 'A1IG1I6MR3HAWA',\n",
       " 'A9Y5O2R4D6EH5',\n",
       " 'AUUV3XDYB16X5',\n",
       " 'AS269J1OGZT1V',\n",
       " 'A1QNYLBG73QRNF',\n",
       " 'AG35JCCQWDRCS',\n",
       " 'A2YW6XOID7GV6G',\n",
       " 'A13WOT3RSXKRD5',\n",
       " 'A2OWR5G2OAQF7C',\n",
       " 'A1FR68QH6Z4YZM',\n",
       " 'AS7J4952JB5XR',\n",
       " 'A1GBU479WXR7UG',\n",
       " 'A1ZXMMQPYC3Z9I',\n",
       " 'A2XQYE6TJYROHQ',\n",
       " 'A1MFVAHTT2BHM0',\n",
       " 'AG6TX1ZJHLMO7',\n",
       " 'A1Y4EWMUTW73GD',\n",
       " 'A1O229NVVDJUX2',\n",
       " 'A15QYHQH80W30L',\n",
       " 'A3E68EBGXTWDNP',\n",
       " 'A33YZNZIRA3H97',\n",
       " 'A3EPJSPH03AS29',\n",
       " 'A2JKM8KF3296CW',\n",
       " 'AYB4ELCS5AM8P',\n",
       " 'AA8RBTN3J2F5H',\n",
       " 'A20H1M28WLI9J2',\n",
       " 'A2UWPPU5GZLMQZ',\n",
       " 'A10Y058K7B96C6',\n",
       " 'A2SPV96SGOEO2',\n",
       " 'A3R1GJY2MY8041',\n",
       " 'ALDAF4VVLFRHP',\n",
       " 'A1NJHKPHD4YWZV',\n",
       " 'A1YVO5V1SO18DZ',\n",
       " 'A74UT8IQCM0I2',\n",
       " 'A30XZK10EZN9V4',\n",
       " 'A26CPEEWB2WKRE',\n",
       " 'A2XX2A4OJCDNLZ',\n",
       " 'AHROSV6WJOEGY',\n",
       " 'A2AY4YUOX2N1BQ',\n",
       " 'AGXV8E7XK9J6H',\n",
       " 'A2HJY7418G1KV1',\n",
       " 'A2DS9DLMSU2M2Z',\n",
       " 'A2J3VCGBNDLAKF',\n",
       " 'A1ZTR0FR5AW9B4',\n",
       " 'A25TNBMJ4ZO7RD',\n",
       " 'A3CFU12GS5CZCN',\n",
       " 'A3D01HLSUFEZQY',\n",
       " 'A2ARDVMUGDFED6',\n",
       " 'A3OYO7B6SS7QLH',\n",
       " 'A1V4A5U5O3TMMD',\n",
       " 'A1UL2JH7XOUGM5',\n",
       " 'A1FDV3WPOHREY9',\n",
       " 'A194Y47BF3CUTJ',\n",
       " 'A26LD9FQHTM8ZH',\n",
       " 'A24HWYHR28JJ7A',\n",
       " 'A3FPSY1M6G7XIB',\n",
       " 'A2J0IBS4PFRO2C',\n",
       " 'A3SX5MZTCZRQLF',\n",
       " 'A3Q4TYJVAM4IRM',\n",
       " 'A3PJJTAKISAFI9',\n",
       " 'A1H98YV5K5BUX0',\n",
       " 'A4UGMKUSX9XHI',\n",
       " 'A3P4T1DKRWTL36',\n",
       " 'AQNSQW4495SG0',\n",
       " 'A21T0D2F7SKG5S',\n",
       " 'A23E9QQHJLNGUI',\n",
       " 'A2GMZZ6TDYOHY7',\n",
       " 'A3TR3KLL5PXSZ8',\n",
       " 'AHF4I1FSIHABC',\n",
       " 'A1RJKTYC03L0JY',\n",
       " 'AIJQU979J6UFY',\n",
       " 'A2LEIANN1UZTHP',\n",
       " 'A3IMALU0RM8UT9',\n",
       " 'A26EQ8U96JA92T',\n",
       " 'A14Z6D3IRJ23F7',\n",
       " 'A2FXBWR4T4OFQ',\n",
       " 'A26877IWJGISYM',\n",
       " 'ACHTDPEQYSEQL',\n",
       " 'A1CPRP3VFJRS1R',\n",
       " 'A2T689YVOAYGGD',\n",
       " 'A20951I210L0IB',\n",
       " 'AD9ZL63H0VKCZ',\n",
       " 'A3G007LQX6KGOD',\n",
       " 'A25C2M3QF9G7OQ',\n",
       " 'A30C8WHQ2CYFO4',\n",
       " 'A2W9GX82SLKROQ',\n",
       " 'A3EZFFPVS34AMO',\n",
       " 'A2PY5ED630H0QJ',\n",
       " 'A3CEUT263RNUDO',\n",
       " 'A5QDZEOIMQ4LW',\n",
       " 'A3S5EXYZDEBF3K',\n",
       " 'A10ZBR6O8S8OCY',\n",
       " 'ATFBVUXDIRXT6',\n",
       " 'AY4EXFOO43C3S',\n",
       " 'A2NYOY6H42SORF',\n",
       " 'A33ZYFE8XMKKR1',\n",
       " 'A1G3DKT38DNZJP',\n",
       " 'AEFTIUQHSVUFX',\n",
       " 'A6KL17KKN0A5L',\n",
       " 'A2XU6J41ZQOJ2V',\n",
       " 'A3N4VTNFPMTHEF',\n",
       " 'A11R5VW7IM6ISQ',\n",
       " 'A3EFSLEMHNPP6A',\n",
       " 'A30UP2KKD5IQEP',\n",
       " 'ARW8VGT10JG60',\n",
       " 'A15J9K7O10A3M6',\n",
       " 'A1D9V11QUHXENQ',\n",
       " 'A2NP9CGUSFP22E',\n",
       " 'A9BWUH9XKZ2DQ',\n",
       " 'A17W0GMB0YY83M',\n",
       " 'A3IOQ7NVVLAUEE',\n",
       " 'A1X1CEGHTHMBL1',\n",
       " 'A3V0YR50F1XSKP',\n",
       " 'A1CMD08Z49PGKQ',\n",
       " 'AN2IZT80ZUNJN',\n",
       " 'A1CMWB7AWQUQH4',\n",
       " 'A2Y3WWPUKIJ59I',\n",
       " 'A198CCH4NNLI2E',\n",
       " 'A11KQADBYE0UZL',\n",
       " 'A3S0DBBR693O06',\n",
       " 'A3R33KMESG0XGQ',\n",
       " 'AG8YP2XTC5X1I',\n",
       " 'A3NXJDNTQK2YJL',\n",
       " 'A2W9I628I6SE1U',\n",
       " 'A1Z3598J0371ND',\n",
       " 'A2NSXY5L42ZUGO',\n",
       " 'A1PM7HH4F77NEH',\n",
       " 'A28LUOEY0ECT9G',\n",
       " 'A3QDMDSANPYGUX',\n",
       " 'A100UD67AHFODS',\n",
       " 'A2WBVO6X3KPMDT',\n",
       " 'AOMEH9W6LHC4S',\n",
       " 'A1OES7R7FDAT2L',\n",
       " 'A1VR1HIOVQWN09',\n",
       " 'AS2II0671KT2C',\n",
       " 'ARBKYIVNYWK3C',\n",
       " 'A215IN14OKAE2T',\n",
       " 'A2OOXVZ6B1VZ9A',\n",
       " 'A3RGJ1FXOB1ZLL',\n",
       " 'AAXAKFQEAQPWC',\n",
       " 'A1PS4OYWUB0VX',\n",
       " 'A1KXJCXS6HFRQZ',\n",
       " 'A22NKFOH9RATRC',\n",
       " 'A22I55P15NSAOX',\n",
       " 'AH3LF9RAD1O2V',\n",
       " 'A3HSDV9Y0TV5Z2',\n",
       " 'AHQRU3MRORIWQ',\n",
       " 'A3LPL35P7FH78Y',\n",
       " 'A2KYRPDKVBI2R4',\n",
       " 'A12ANFNOSMW5VD',\n",
       " 'A377LPVLLAI42D',\n",
       " 'A35SNSDRNE9P8Q',\n",
       " 'AU3GYRAKBUAEU',\n",
       " 'A3TCMJ6GKZJFBQ',\n",
       " 'A2OS3TIVAKUAHG',\n",
       " 'AELK0E5DK7LIZ',\n",
       " 'A3H4S6YO9VNGDZ',\n",
       " 'A3QUDXLOJTKEP9',\n",
       " 'A1H4IVXNXWWBLV',\n",
       " 'A20WUUD9EDWY4N',\n",
       " 'A1REY92IEZJUSX',\n",
       " 'A253IOATGMT2UP',\n",
       " 'ABMN74TBW5UWE',\n",
       " 'A38NELQT98S4H8',\n",
       " 'A1TFDMY4YNTV97',\n",
       " 'A178M2AHNWQZB0',\n",
       " 'A3DWO5RJDA430F',\n",
       " 'A38NHXL5257E3B',\n",
       " 'A19X4BF861LQST',\n",
       " 'A7QMQBGJ2TCQG',\n",
       " 'A2ZRMCRLDSUX6R',\n",
       " 'A2ZFFSJ0VM6KSJ',\n",
       " 'A3JU16JTNLVK1J',\n",
       " 'A204K1OFE8OB9Y',\n",
       " 'A2EMUM49CE0JV4',\n",
       " 'AK3GKIV8DEY8B',\n",
       " 'A15G70V9OBTOVO',\n",
       " 'A2RIL2NXHE00AQ',\n",
       " 'AU627A4UGIW6V',\n",
       " 'A16RL0RMRF974O',\n",
       " 'AR8LWDT6TUKNZ',\n",
       " 'A32T2H8150OJLU',\n",
       " 'AHR86ZEYETLJI',\n",
       " 'AU2UJF4I7KAWL',\n",
       " 'A32482Z7XIKDQX',\n",
       " 'A3DOPYDOS49I3T',\n",
       " 'A1FLJCHN5CG5M5',\n",
       " 'A1FXT4VNDA25LY',\n",
       " 'A1PV5T5S4D5NPI',\n",
       " 'A2YEZ8Z3BW2SKG',\n",
       " 'A3TRY87JJCA5Y8',\n",
       " 'ANXEW7IDYDJEH',\n",
       " 'A1SFPA80X7TRBR',\n",
       " 'AFR9GYKAHM37U',\n",
       " 'AWH2AY17ZU7W2',\n",
       " 'A2ALRZ0ENQLYY5',\n",
       " 'A3PU3EDJ2FG1AW',\n",
       " 'A2Q7OJTVPIO2XH',\n",
       " 'A1VVRA3P6G1TWH',\n",
       " 'A30ADSBTWCORYC',\n",
       " 'A8X478DM3KAWM',\n",
       " 'A376OJHLE6SU9Q',\n",
       " 'AGVWTYW0ULXHT',\n",
       " 'A1ZVFCPHCWFV71',\n",
       " 'AEAFHD09X8044',\n",
       " 'A28RSMADFCBJDT',\n",
       " 'A2TA40MV2H4O6F',\n",
       " 'A1VRANSQ0WF1YS',\n",
       " 'A2XRMQA6PJ5ZJ8',\n",
       " 'A1MFAPVBW9BEGD',\n",
       " 'A2J8T58Z4X15IO',\n",
       " 'A1TQZUSOU22E9M',\n",
       " 'A1XXMNLOLKNO0I',\n",
       " 'A197T2N6RU7K56',\n",
       " 'A3TBMAWIIHKHFN',\n",
       " 'A27H61OHW44XA7',\n",
       " 'A20G074MWH9U7O',\n",
       " 'A33HIV8RXRDM88',\n",
       " 'A2NOIWPJDD7WIQ',\n",
       " 'A2LCE1D0TW2XY0',\n",
       " 'AR6APXLK7TJU2',\n",
       " 'A27T4RQ3XA661C',\n",
       " 'A1143YEAZYMYHJ',\n",
       " 'A2FSOHSM9X13JT',\n",
       " 'A2HBOG4LVIY15L',\n",
       " 'AZ8XSDMIX04VJ',\n",
       " 'A2CWUM49ZWMGEY',\n",
       " 'A3PPO2X5PJE1L9',\n",
       " 'AYOTEJ617O60K',\n",
       " 'A21I62TCDL4754',\n",
       " 'AKBVYIIHWI04B',\n",
       " 'AVBLGXSWRN666',\n",
       " 'A3S0EHEIR52HP1',\n",
       " 'AHD3NZHDUZ5I6',\n",
       " 'A2OKRGHIYTBQ6P',\n",
       " 'A2BUQ240COLAOP',\n",
       " 'A18A5VSD0IPN14',\n",
       " 'A3E9O1VNJ3U324',\n",
       " 'A1VLE2SH9J8WYS',\n",
       " 'A2GYV87WW0DMSN',\n",
       " 'A1VOFY3QFT9WCG',\n",
       " 'A33SX0AD5PYD9B',\n",
       " 'A1E55W6ES0FY17',\n",
       " 'A1F0KPA232MTYC',\n",
       " 'A37CEYB95LK6R6',\n",
       " 'A1YEPFLLH42OU1',\n",
       " 'A1UCAVBNJUZMPR',\n",
       " 'A27AF4DLLOBQDQ',\n",
       " 'A3P1508PZ0UADD',\n",
       " 'A314KKDIJWCNMV',\n",
       " 'A1KWPIORLG2QV',\n",
       " 'AUBEFRFHJR64Y',\n",
       " 'AGOH8N902URMW',\n",
       " 'A2V5M5EJPOD2IU',\n",
       " 'A200DY76VXVGP9',\n",
       " 'AWNJAY0M5UI70',\n",
       " 'A2F7CSE6KT7NI4',\n",
       " 'AXU8RH1DEV21H',\n",
       " 'A16CVJUQOB6GIB',\n",
       " 'A1MFPAM9TTRTXN',\n",
       " 'A18FLOC8YQY0P8',\n",
       " 'A3QAO3QBCQF89T',\n",
       " 'A27M75LRSJ788H',\n",
       " 'AH5BCMZELZSKG',\n",
       " 'A1A5KUIIIHFF4U',\n",
       " 'A64LEAZ2QF8L2',\n",
       " 'AD0J5KK4WQXNS',\n",
       " 'A2ZY3S7SD3QO8Z',\n",
       " 'A1DTCJV6KOMJOA',\n",
       " 'AROQO2VDODT7',\n",
       " 'A16SRDVPBXN69C',\n",
       " 'A2NSMJVQY0RV9S',\n",
       " 'A31ICLWQ9CSHRS',\n",
       " 'A1X2LENOF84LCQ',\n",
       " 'A2NU9H8H5MJZSL',\n",
       " 'AZNUHQSHZHSUE',\n",
       " 'A18GJ9MYYO6GCQ',\n",
       " 'AWJWCKB92RJX2',\n",
       " 'A34VRVI4CSI5RQ',\n",
       " 'A2X06FP2PQ6EK0',\n",
       " 'A1VTCSCH8FFC76',\n",
       " 'A26BDXG9KVH7SU',\n",
       " 'A1AH8033GWKBY7',\n",
       " 'A2D1LPEUCTNT8X',\n",
       " 'A23D13HKTA95WX',\n",
       " 'A3IUW081KXD3PE',\n",
       " 'A11ULAZ4B5ZXC8',\n",
       " 'A23NSKTMSPPBTR',\n",
       " 'A2FRKEXDXDN1KI',\n",
       " 'AO2EURP2Y4JZM',\n",
       " 'A6XDZ1MJ0B1A2',\n",
       " 'A20DDH4NT6Q1E8',\n",
       " 'AYGEKID3G7DPW',\n",
       " 'A12R3YGEHW7D8G',\n",
       " 'AWZR0O65DL2Q',\n",
       " 'AG0PM9IAHQ06C',\n",
       " 'A22S7D0LP8GRDH',\n",
       " 'A9J4UURM4OSDW',\n",
       " 'ACSX5AIZE3MJ9',\n",
       " 'ADHA1W879JNT0',\n",
       " 'A3NOBH42C7UI5M',\n",
       " 'A22MANL4US4RMY',\n",
       " 'A19FRW264WZTGP',\n",
       " 'A3CJ7MHAS9IMAM',\n",
       " 'A3FEJ8H2VTN0OJ',\n",
       " 'ATNOI7E8GTIVE',\n",
       " 'AMUP8DYE7EAN2',\n",
       " 'A2Y29IRSI08F0I',\n",
       " 'A196JN53PG0C7R',\n",
       " 'A2L4W1M5YU5QX3',\n",
       " 'AV10H5K6VPQIJ',\n",
       " 'A27GITTN6AVW5I',\n",
       " 'A2UEB48LAWFUCW',\n",
       " 'A1VUN4JU731CBH',\n",
       " 'A2NXRD80LWHUOP',\n",
       " 'A25FL6VLD7S23S',\n",
       " 'A3E3EQ39FZTZEK',\n",
       " 'A1QOK9LU90ACF7',\n",
       " 'A32O5FZH994CNY',\n",
       " 'A7FDGFK0KN7QG',\n",
       " 'A3G5MOHY1U635N',\n",
       " 'A2WPL6Y08K6ZQH',\n",
       " 'ANYC38I00IRVK',\n",
       " 'AGFSSC5DBY2HU',\n",
       " 'A2X3L31KCXBHCL',\n",
       " 'A3SP7T2PZ3HSDE',\n",
       " 'A9DYWY9VOSP1P',\n",
       " 'A2S26YGSVXBCFL',\n",
       " 'A233TZONT1OGR0',\n",
       " 'A3FFZQKCA7UOYY',\n",
       " 'AONUCJBC85BL',\n",
       " 'A2ZGDHLJ85T6AD',\n",
       " 'A3IY316DRNF5F2',\n",
       " 'ARX7Z3NI6O0F7',\n",
       " 'A38KK0SZYEH5UD',\n",
       " 'ATS2855497V0I',\n",
       " 'A1XB7JGJ459ERP',\n",
       " 'A3FEGTOLCWXSV4',\n",
       " 'A3QNQQKJTL76H0',\n",
       " 'A1SHHQSPOWR00F',\n",
       " 'A35HNL2VEDK9Z1',\n",
       " 'A2Q204DY2L7YRP',\n",
       " 'A1RPJHUVVSI98A',\n",
       " 'A2LXX47A0KMJVX',\n",
       " 'AC6Z7DP1Z5GHD',\n",
       " 'A324X7RVDAV3FT',\n",
       " 'A3O5ASFUXC32UA',\n",
       " 'A2VODABWSVHV8E',\n",
       " 'ACYZXQ2JKPZKT',\n",
       " 'A2SYAQXJGRY3XE',\n",
       " 'A2294LS59GC5K7',\n",
       " 'A296QED1MV1V0J',\n",
       " 'A1WG97A0EFHYXN',\n",
       " 'A2ROZACRW31PC2',\n",
       " 'A2XA8CW5DF4MNZ',\n",
       " 'A33GNK4YENACDJ',\n",
       " 'A2DIQTZPF26T1L',\n",
       " 'ABDR6IJ93HFIO',\n",
       " 'A1F5O1USOUOOXI',\n",
       " 'ALNE7Q71JFC0F',\n",
       " 'A1Q5P5ML3176C0',\n",
       " 'AY3XPKRAMKKY7',\n",
       " 'A2D1ZQEFS1NBH2',\n",
       " 'A10O7THJ2O20AG',\n",
       " 'A5Q1FK0FWU7DH',\n",
       " 'A96JD9312DHWC',\n",
       " 'ADKGE078JK8K7',\n",
       " 'A2RG1B0K8YBJ4A',\n",
       " 'A10ZFE6YE0UHW8',\n",
       " 'A1ZPUEHF4AES86',\n",
       " 'A27QXQQOLAMRRR',\n",
       " 'A35X2JJI49OBZP',\n",
       " 'A2XJMQ2COPGWJH',\n",
       " 'AR1T36GLLAFFX',\n",
       " 'A2RU4U1JZ3DMP5',\n",
       " 'A34CKIMZ969UW7',\n",
       " 'A2WCFDOCS73PNB',\n",
       " 'A21Q9JVG4SII51',\n",
       " 'ACQYIC13JXAOI',\n",
       " 'A37PV5GMP2ILJC',\n",
       " 'A2F92M62KN324B',\n",
       " 'A23R3EOZ837242',\n",
       " 'A2ER8G4JJJ7XER',\n",
       " 'A2C8I2RQ0WG940',\n",
       " 'A2XPK6XCL0UH1S',\n",
       " 'A1VLVWTLV3LVHR',\n",
       " 'A27B1U3OWCU14J',\n",
       " 'A2FWZ58M6IQMD7',\n",
       " 'A4H4KYSM2KQ85',\n",
       " 'A1BT6TL7UCIC5Y',\n",
       " 'AOJA1LC8PN7K1',\n",
       " 'A2XXBZPQT5EXHV',\n",
       " 'A8WEXFRWX1ZHH',\n",
       " 'A1Z4GII5CHCDG7',\n",
       " 'A17RFKCYS69M3Y',\n",
       " 'A2J7FHZFKOKGZ6',\n",
       " 'A1MZL91Z44RN06',\n",
       " 'AI2AOCTC8BQVZ',\n",
       " 'A3L1VJMHFWONCB',\n",
       " 'A2BLFCOPSMBOZ9',\n",
       " 'A15TABNGK6L4N3',\n",
       " 'A2PJH18W4XHTZW',\n",
       " 'A370XYLIZCSK1Y',\n",
       " 'A1BJOHHLG0D965',\n",
       " 'A38Z6QG6988WS7',\n",
       " 'AAK6SOEJY30YG',\n",
       " 'A1QQA7Y92L4F9R',\n",
       " 'ARIDN94LOCQFD',\n",
       " 'A3NKRH3TJ4DPVI',\n",
       " 'A39137LW12KK7B',\n",
       " 'A1S7BFT0HDF3HA',\n",
       " 'A2SH7OWE8QJYNC',\n",
       " 'ABAPF3XY1W6JX',\n",
       " 'A1MCH5RXDOH87H',\n",
       " 'A37D1ZP8GBHE38',\n",
       " 'A3DL29NLZ7SXXG',\n",
       " 'ALRCAGJOJ9583',\n",
       " 'A2ZRG5NOFZ47RK',\n",
       " 'A1ZCSSCAGBCD49',\n",
       " 'A25WJCAP606YMP',\n",
       " 'A3J3ZHGDUDPCFL',\n",
       " 'AL1XV4L25FZ2S',\n",
       " 'AI8EMB0HUC6Z5',\n",
       " 'A3VI2VETB90ZG5',\n",
       " 'AMFXXAOVV4CPJ',\n",
       " 'A1MRPX3RM48T2I',\n",
       " 'A32AK8FOAZEPE2',\n",
       " 'AKX9EQ37PAYMY',\n",
       " 'A1VS1LL905P5L5',\n",
       " 'ABH9D1TEOJ56E',\n",
       " 'A1CST2WUA32GP0',\n",
       " 'A1Y85GQ09Y95JL',\n",
       " 'A2BIJMB2BITQUM',\n",
       " 'A1JZFGZEZVWQPY',\n",
       " 'A3VL4RXCWNSR3H',\n",
       " 'AOQLV2LSI9B2W',\n",
       " 'A2UTZ4O5E2W4DK',\n",
       " 'AGYH5U11ZKPFB',\n",
       " 'A1G5MI2KREPEIB',\n",
       " 'A1GQRGB8FGSLIZ',\n",
       " 'AEWYUPCNDV7HY',\n",
       " 'A18YMFFJW974QS',\n",
       " 'A2JRDFIGWTX50J',\n",
       " 'A2VIYTWXANL343',\n",
       " 'A3RR2P5IS3DGPR',\n",
       " 'A3F8T3BRXRX5P3',\n",
       " 'A3V15SFD7918WZ',\n",
       " 'A213J54E63SYOP',\n",
       " 'A15J71JLC29KPW',\n",
       " 'A2ME89MSWVG9NF',\n",
       " 'A3S3VSXEFXBMRC',\n",
       " 'AFFVUZEGP1FDQ',\n",
       " 'A11EYMH9UV9XG7',\n",
       " 'AWSK1ZAEU1KFL',\n",
       " 'A3LSEIG2PIJYBL',\n",
       " 'AG7EF0SVBQOUX',\n",
       " 'A18NDN2CIG2TKR',\n",
       " 'A2HXE29CU1I24Y',\n",
       " 'A3VVMIMMTYQV5F',\n",
       " 'A2UOHALGF2X77Q',\n",
       " 'A21GW4L8FO307V',\n",
       " 'AFM7FK7NFEKFZ',\n",
       " 'A1LAGS8H4A2DR7',\n",
       " 'A3MU9G6YWKTGTA',\n",
       " 'A36IHC0K68NS2',\n",
       " 'ABQWMANK4AR63',\n",
       " 'AQM0K7MBBT4AY',\n",
       " 'A1AWL9JASMG904',\n",
       " 'A30JPZ9TZ7I61U',\n",
       " 'A2AC6GQ24S45GA',\n",
       " 'A16QODENBJVUI1',\n",
       " 'A31HE83MU98GBV',\n",
       " 'A3Q6ZPW60CVF2L',\n",
       " 'A3SL0HA6422W4M',\n",
       " 'ANW6EGY12V5XS',\n",
       " 'A19RGDJPNZ7NZ',\n",
       " 'A20DZX38KRBIT8',\n",
       " 'A11IXJ8M1JO296',\n",
       " 'A1NMM0RDRF6R84',\n",
       " 'A31RZMVAFMLB8B',\n",
       " 'A3BACUOZV1M0WM',\n",
       " 'A2NJQF2UI60VGT',\n",
       " 'A2GKMXRLI7KLFP',\n",
       " 'A11EXFO14WEJM1',\n",
       " 'A3IJ4Z18FTIIP',\n",
       " 'A2LF07KCXDR70D',\n",
       " 'APBB297H3ZA5E',\n",
       " 'AIBRTGBN07D6A',\n",
       " 'A3RMEU4GNP60BM',\n",
       " 'A5CDMTW6JKV5G',\n",
       " 'A1SB9BNNGKNX2Z',\n",
       " 'A3AYSYSLHU26U9',\n",
       " 'ARX0KOX5Q01BJ',\n",
       " 'A37IRE9GZ0CZ7I',\n",
       " 'A35A2RWUMC737N',\n",
       " 'AB094YABX21WQ',\n",
       " 'A2PL06HW6KZH2',\n",
       " 'AGILRZOT49R0V',\n",
       " 'APMYPD97EHUUZ',\n",
       " 'A2PICNZWHEINQC',\n",
       " 'A10NMELR4KX0J6',\n",
       " 'A2I357I10ZY7CI',\n",
       " 'A2SNE4QQGVP13U',\n",
       " 'A1IU4UAV9QIJAI',\n",
       " 'A3CJOB7CHOSZUG',\n",
       " 'A3KCETSIJNOK56',\n",
       " 'A1QLQCJVGCQPP0',\n",
       " 'AL42PIIG5DXYD',\n",
       " 'A3JNBO7H2SPL44',\n",
       " 'A8CKH8XB33XGN',\n",
       " 'A3V5F050GVZ56Q',\n",
       " 'A2RGA7UGAN3UL7',\n",
       " 'A3QRR8PSCBI07C',\n",
       " 'A2ZDY0V4Q1SZD7',\n",
       " 'A1EOTB1WHLSW6G',\n",
       " 'A185O1MX1RP964',\n",
       " 'A23ZXHFLC6TBLD',\n",
       " 'A1B0NL8UWAELI7',\n",
       " 'A24P4E3RJ6AX94',\n",
       " 'A1WJ3P43SZUNDM',\n",
       " 'A2L42QEWR77PKZ',\n",
       " 'A3SRDVCD2ATIIS',\n",
       " 'A3NYBI5VMVEEIK',\n",
       " 'A3U6J0DLLDEWM2',\n",
       " 'A2QDOJFFLFGF18',\n",
       " 'A2BX8DDQGCCG2J',\n",
       " 'ACJT8MUC0LRF0',\n",
       " 'A1NGFGBX2VCQS8',\n",
       " 'A3KNGMX2RVQG91',\n",
       " 'A1BZIM4WGZ6DZP',\n",
       " 'AV9PIER7NE448',\n",
       " 'A3IRA0BHI9NE9U',\n",
       " 'AFM2J3HJNPIHV',\n",
       " 'A2HKUM9OEBQKDW',\n",
       " 'A2AX2UGB167J31',\n",
       " 'ASF3J4UYV34KA',\n",
       " 'A307Y3LMCVEZS1',\n",
       " 'A2YYHSORXIHZCS',\n",
       " 'A38CHSS1ZAE51B',\n",
       " 'A23WPWLYT3P1CZ',\n",
       " 'A3O1FVLUD9X1XC',\n",
       " 'A2VH0UT5EQFB6P',\n",
       " 'A2N3JSOIQ6ZNFL',\n",
       " 'A3JU990UTN5RQP',\n",
       " 'A2PB325LKXYDOL',\n",
       " 'ABE5E8B3J7MKY',\n",
       " 'A19EKT8H85AKO5',\n",
       " 'A1H7Y5XKPGT0OS',\n",
       " 'A1UEL5C1N6E5SE',\n",
       " 'A17NVM7IAPF2NS',\n",
       " 'A1HFT68GJ42LTM',\n",
       " 'A3D6OI36USYOU1',\n",
       " 'AG2YXYIQ8TLTA',\n",
       " 'A3GVXKCTFN3YDN',\n",
       " 'A2MIP3AQVSF2SS',\n",
       " 'ACY9QYNDFLVBI',\n",
       " 'A2LLSFQO8O8XNW',\n",
       " 'A2CPP7BZKOF9TP',\n",
       " 'A3A4ZAIBQWKOZS',\n",
       " 'A2L36AGL8CKY3D',\n",
       " 'A24J2Y1O22JYZX',\n",
       " 'ABUE0ALHKWKHC',\n",
       " 'AQR4HPVSOPS08',\n",
       " 'AUK79PXTAOJP9',\n",
       " 'A16WP8NTPYB0ZM',\n",
       " 'A1MEISNED4NP7U',\n",
       " 'A2ZFBTGPDP6PH6',\n",
       " 'A24ARANWS5E3T8',\n",
       " 'A2EW01G2LNJN06',\n",
       " 'A1AKW788238PWQ',\n",
       " 'A17BUUBOU0598B',\n",
       " ...]"
      ]
     },
     "execution_count": 27,
     "metadata": {},
     "output_type": "execute_result"
    }
   ],
   "source": [
    "# Find unique user_id where prod_id is not equal to \"1400501466\"\n",
    "data2 = df[df.prod_id != '1400501466']\n",
    "user = data2['user_id'].unique()\n",
    "list(user)"
   ]
  },
  {
   "cell_type": "markdown",
   "metadata": {
    "id": "EXSgq8OEnVNE"
   },
   "source": [
    "**Below we are predicting rating for `userId=A34BZM6S9L7QI4` and `prod_id=1400501466`.**"
   ]
  },
  {
   "cell_type": "code",
   "execution_count": null,
   "metadata": {
    "colab": {
     "base_uri": "https://localhost:8080/"
    },
    "id": "PbFcBj1PpfEV",
    "outputId": "e8278453-76ff-42b6-ef06-831c51fa45ea"
   },
   "outputs": [
    {
     "name": "stdout",
     "output_type": "stream",
     "text": [
      "user: A34BZM6S9L7QI4 item: 1400501466 r_ui = None   est = 3.00   {'actual_k': 1, 'was_impossible': False}\n"
     ]
    },
    {
     "data": {
      "text/plain": [
       "Prediction(uid='A34BZM6S9L7QI4', iid='1400501466', r_ui=None, est=3.0, details={'actual_k': 1, 'was_impossible': False})"
      ]
     },
     "execution_count": 28,
     "metadata": {},
     "output_type": "execute_result"
    }
   ],
   "source": [
    "# Predicting rating for a sample user with a non interacted product\n",
    "knn_model.predict('A34BZM6S9L7QI4', '1400501466', verbose = True)"
   ]
  },
  {
   "cell_type": "markdown",
   "metadata": {
    "id": "02rwld8yemRI"
   },
   "source": [
    "**Write your observations here: The predicted rating is 3.**"
   ]
  },
  {
   "cell_type": "markdown",
   "metadata": {
    "id": "ejjof6csnVNF"
   },
   "source": [
    "### **Improving similarity-based recommendation system by tuning its hyperparameters**"
   ]
  },
  {
   "cell_type": "markdown",
   "metadata": {
    "id": "p2j4VvfQnVNF"
   },
   "source": [
    "Below, we will be tuning hyperparameters for the `KNNBasic` algorithm. Let's try to understand some of the hyperparameters of the KNNBasic algorithm:\n",
    "\n",
    "- **k** (int) – The (max) number of neighbors to take into account for aggregation. Default is 40.\n",
    "- **min_k** (int) – The minimum number of neighbors to take into account for aggregation. If there are not enough neighbors, the prediction is set to the global mean of all ratings. Default is 1.\n",
    "- **sim_options** (dict) – A dictionary of options for the similarity measure. And there are four similarity measures available in surprise -\n",
    "    - cosine\n",
    "    - msd (default)\n",
    "    - Pearson\n",
    "    - Pearson baseline"
   ]
  },
  {
   "cell_type": "code",
   "execution_count": null,
   "metadata": {
    "colab": {
     "base_uri": "https://localhost:8080/"
    },
    "id": "9LmPbSUSTsnp",
    "outputId": "4dd2dc0d-3ce4-450a-d6c3-817c34ffeb1e"
   },
   "outputs": [
    {
     "name": "stdout",
     "output_type": "stream",
     "text": [
      "1.0536892789546295\n",
      "{'k': 40, 'min_k': 6, 'sim_options': {'name': 'cosine', 'user_based': True}}\n"
     ]
    }
   ],
   "source": [
    "# Setting up parameter grid to tune the hyperparameters\n",
    "pg = {'k': [20, 30, 40], 'min_k': [3, 6, 9], 'sim_options': {'name': ['msd', 'cosine'], 'user_based': [True]}}\n",
    "# Performing 3-fold cross-validation to tune the hyperparameters\n",
    "three_fold = GridSearchCV(KNNBasic, pg, measures = ['rmse', 'mae'], cv = 3, n_jobs = -1)\n",
    "# Fitting the data\n",
    "three_fold.fit(data)\n",
    "# Best RMSE score\n",
    "print(three_fold.best_score['rmse'])\n",
    "# Combination of parameters that gave the best RMSE score\n",
    "print(three_fold.best_params['rmse'])"
   ]
  },
  {
   "cell_type": "markdown",
   "metadata": {
    "id": "L2fHNvu7nVNF"
   },
   "source": [
    "Once the grid search is **complete**, we can get the **optimal values for each of those hyperparameters**."
   ]
  },
  {
   "cell_type": "markdown",
   "metadata": {
    "id": "NHWgxu_YnVNG"
   },
   "source": [
    "Now, let's build the **final model by using tuned values of the hyperparameters**, which we received by using **grid search cross-validation**."
   ]
  },
  {
   "cell_type": "code",
   "execution_count": null,
   "metadata": {
    "colab": {
     "base_uri": "https://localhost:8080/"
    },
    "id": "PujRJA8X_JEJ",
    "outputId": "0d18cd48-4b17-4d2a-b03d-801cdd037420"
   },
   "outputs": [
    {
     "name": "stdout",
     "output_type": "stream",
     "text": [
      "RMSE: 1.0591\n",
      "Precision:  0.834\n",
      "Recall:  0.601\n",
      "F_1 score:  0.699\n"
     ]
    }
   ],
   "source": [
    "# Using the optimal similarity measure for user-user based collaborative filtering\n",
    "sim = {'name': 'msd', 'user_based': True}\n",
    "# Creating an instance of KNNBasic with optimal hyperparameter values\n",
    "opt_model = KNNBasic(sim_options = sim, k = 20, min_k = 6, verbose = False)\n",
    "# Training the algorithm on the trainset\n",
    "opt_model.fit(trainset)\n",
    "# Let us compute precision@k and recall@k also with k =10\n",
    "precision_recall_at_k(opt_model)"
   ]
  },
  {
   "cell_type": "markdown",
   "metadata": {
    "id": "yHsWvFjKTsnp"
   },
   "source": [
    "**Write your observations here: After tuning the hyperparameters, the RMSE went down from 1.1124 to 1.0591. The precision, recall, and F1 score values have slighlty decreased. Only the decrease in the RMSE suggests that this is a better model.**"
   ]
  },
  {
   "cell_type": "markdown",
   "metadata": {
    "id": "YhcAXK0CnVNG"
   },
   "source": [
    "### **Steps:**\n",
    "- **Predict rating for the user with `userId=\"A3LDPF5FMB782Z\"`, and `prod_id= \"1400501466\"` using the optimized model**\n",
    "- **Predict rating for `userId=\"A34BZM6S9L7QI4\"` who has not interacted with `prod_id =\"1400501466\"`, by using the optimized model**\n",
    "- **Compare the output with the output from the baseline model**"
   ]
  },
  {
   "cell_type": "code",
   "execution_count": null,
   "metadata": {
    "colab": {
     "base_uri": "https://localhost:8080/"
    },
    "id": "FgV63lHiq1TV",
    "outputId": "29712e6a-3432-4af1-8c8f-a9335f1719a8"
   },
   "outputs": [
    {
     "name": "stdout",
     "output_type": "stream",
     "text": [
      "user: A3LDPF5FMB782Z item: 1400501466 r_ui = 5.00   est = 4.74   {'actual_k': 6, 'was_impossible': False}\n"
     ]
    },
    {
     "data": {
      "text/plain": [
       "Prediction(uid='A3LDPF5FMB782Z', iid='1400501466', r_ui=5, est=4.73758865248227, details={'actual_k': 6, 'was_impossible': False})"
      ]
     },
     "execution_count": 31,
     "metadata": {},
     "output_type": "execute_result"
    }
   ],
   "source": [
    "# Use sim_user_user_optimized model to recommend for userId \"A3LDPF5FMB782Z\" and productId 1400501466\n",
    "opt_model.predict('A3LDPF5FMB782Z', '1400501466', r_ui = 5, verbose = True)"
   ]
  },
  {
   "cell_type": "code",
   "execution_count": null,
   "metadata": {
    "colab": {
     "base_uri": "https://localhost:8080/"
    },
    "id": "HXO2Ztjhq1bN",
    "outputId": "063b1b38-5c76-4c6d-bdd7-983e44a045a9"
   },
   "outputs": [
    {
     "name": "stdout",
     "output_type": "stream",
     "text": [
      "user: A34BZM6S9L7QI4 item: 1400501466 r_ui = None   est = 4.27   {'was_impossible': True, 'reason': 'Not enough neighbors.'}\n"
     ]
    },
    {
     "data": {
      "text/plain": [
       "Prediction(uid='A34BZM6S9L7QI4', iid='1400501466', r_ui=None, est=4.265341143819582, details={'was_impossible': True, 'reason': 'Not enough neighbors.'})"
      ]
     },
     "execution_count": 32,
     "metadata": {},
     "output_type": "execute_result"
    }
   ],
   "source": [
    "# Use sim_user_user_optimized model to recommend for userId \"A34BZM6S9L7QI4\" and productId \"1400501466\"\n",
    "opt_model.predict('A34BZM6S9L7QI4', '1400501466', verbose = True)"
   ]
  },
  {
   "cell_type": "markdown",
   "metadata": {
    "id": "s5i-OPprNF2e"
   },
   "source": [
    "**Write your observations here: For the first case, the predicted rating is 4.74 and for the second case, the predicted rating is 4.27. This optimized model seems to be more accurate than the baseline model because for the user with user_id = A3LDPF5FMB782Z, the predicted rating of 4.74 is closer to the actual rating of 5 than the predicted rating of 3.33 from the baseline model.**"
   ]
  },
  {
   "cell_type": "markdown",
   "metadata": {
    "id": "op_zwO_FnVNH"
   },
   "source": [
    "### **Identifying similar users to a given user (nearest neighbors)**"
   ]
  },
  {
   "cell_type": "markdown",
   "metadata": {
    "id": "o2QsfqhanVNH"
   },
   "source": [
    "We can also find out **similar users to a given user** or its **nearest neighbors** based on this KNNBasic algorithm. Below, we are finding the 5 most similar users to the first user in the list with internal id 0, based on the `msd` distance metric."
   ]
  },
  {
   "cell_type": "code",
   "execution_count": null,
   "metadata": {
    "colab": {
     "base_uri": "https://localhost:8080/"
    },
    "id": "TbFle7cKmBJG",
    "outputId": "b13317af-465b-4818-90e9-9c36bcda2a81"
   },
   "outputs": [
    {
     "data": {
      "text/plain": [
       "[8, 19, 22, 25, 26]"
      ]
     },
     "execution_count": 33,
     "metadata": {},
     "output_type": "execute_result"
    }
   ],
   "source": [
    "# 0 is the inner id of the above user\n",
    "opt_model.get_neighbors(0, k = 5)"
   ]
  },
  {
   "cell_type": "markdown",
   "metadata": {
    "id": "rKgJpSA9vOOL"
   },
   "source": [
    "### **Model 3: Model-Based Collaborative Filtering - Matrix Factorization**"
   ]
  },
  {
   "cell_type": "markdown",
   "metadata": {
    "id": "YF6ZGyqhCAob"
   },
   "source": [
    "Model-based Collaborative Filtering is a **personalized recommendation system**, the recommendations are based on the past behavior of the user and it is not dependent on any additional information. We use **latent features** to find recommendations for each user."
   ]
  },
  {
   "cell_type": "markdown",
   "metadata": {
    "id": "n4Otha8ovOOL"
   },
   "source": [
    "### Singular Value Decomposition (SVD)"
   ]
  },
  {
   "cell_type": "markdown",
   "metadata": {
    "id": "3sGl3QkLvOOL"
   },
   "source": [
    "SVD is used to **compute the latent features** from the **user-item matrix**. But SVD does not work when we **miss values** in the **user-item matrix**."
   ]
  },
  {
   "cell_type": "code",
   "execution_count": null,
   "metadata": {
    "colab": {
     "base_uri": "https://localhost:8080/"
    },
    "id": "07-2PT5Ssjqm",
    "outputId": "f1f8c27c-0a73-402f-8672-7dd1791c5540"
   },
   "outputs": [
    {
     "name": "stdout",
     "output_type": "stream",
     "text": [
      "RMSE: 1.2963\n",
      "Precision:  0.679\n",
      "Recall:  0.689\n",
      "F_1 score:  0.684\n"
     ]
    }
   ],
   "source": [
    "# Using SVD matrix factorization. Use random_state = 1\n",
    "svd = SVD(random_state = 1)\n",
    "# Training the algorithm on the trainset\n",
    "svd.fit(trainset)\n",
    "# Use the function precision_recall_at_k to compute precision@k, recall@k, F1-Score, and RMSE\n",
    "precision_recall_at_k(svd)"
   ]
  },
  {
   "cell_type": "markdown",
   "metadata": {
    "id": "BQ6fTuCDnVNL"
   },
   "source": [
    "**Write your observations here: This model has an RMSE of 1.2963, precision of 0.679, recall of 0.689, and F1 score of 0.684.**"
   ]
  },
  {
   "cell_type": "markdown",
   "metadata": {
    "id": "Jb5_vfJMF_Pq"
   },
   "source": [
    "**Let's now predict the rating for a user with `userId = \"A3LDPF5FMB782Z\"` and `prod_id = \"1400501466`.**"
   ]
  },
  {
   "cell_type": "code",
   "execution_count": null,
   "metadata": {
    "colab": {
     "base_uri": "https://localhost:8080/"
    },
    "id": "yWIhfdxXsjqm",
    "outputId": "876099bc-bab4-411b-8844-bd5ba1453eb4"
   },
   "outputs": [
    {
     "name": "stdout",
     "output_type": "stream",
     "text": [
      "user: A3LDPF5FMB782Z item: 1400501466 r_ui = 5.00   est = 4.57   {'was_impossible': False}\n"
     ]
    },
    {
     "data": {
      "text/plain": [
       "Prediction(uid='A3LDPF5FMB782Z', iid='1400501466', r_ui=5, est=4.5742764310308495, details={'was_impossible': False})"
      ]
     },
     "execution_count": 9,
     "metadata": {},
     "output_type": "execute_result"
    }
   ],
   "source": [
    "# Making prediction\n",
    "svd.predict('A3LDPF5FMB782Z', '1400501466', r_ui = 5, verbose = True)"
   ]
  },
  {
   "cell_type": "markdown",
   "metadata": {
    "id": "oIjzqDY5nVNM"
   },
   "source": [
    "**Write your observations here: The predicted rating is 4.57 which is close to the actual rating of 5.**"
   ]
  },
  {
   "cell_type": "markdown",
   "metadata": {
    "id": "I1aYxVeMnVNM"
   },
   "source": [
    "**Below we are predicting rating for the `userId = \"A34BZM6S9L7QI4\"` and `productId = \"1400501466\"`.**"
   ]
  },
  {
   "cell_type": "code",
   "execution_count": null,
   "metadata": {
    "colab": {
     "base_uri": "https://localhost:8080/"
    },
    "id": "APm-uMSvcAMf",
    "outputId": "18be181d-fada-49fe-adcc-a39ef37363f5"
   },
   "outputs": [
    {
     "name": "stdout",
     "output_type": "stream",
     "text": [
      "user: A34BZM6S9L7QI4 item: 1400501466 r_ui = None   est = 4.53   {'was_impossible': False}\n"
     ]
    },
    {
     "data": {
      "text/plain": [
       "Prediction(uid='A34BZM6S9L7QI4', iid='1400501466', r_ui=None, est=4.526169876993571, details={'was_impossible': False})"
      ]
     },
     "execution_count": 10,
     "metadata": {},
     "output_type": "execute_result"
    }
   ],
   "source": [
    "# Making prediction\n",
    "svd.predict('A34BZM6S9L7QI4', '1400501466', verbose=True)"
   ]
  },
  {
   "cell_type": "markdown",
   "metadata": {
    "id": "NEL6dy3wnVNM"
   },
   "source": [
    "**Write your observations here: The predicted rating is 4.53.**"
   ]
  },
  {
   "cell_type": "markdown",
   "metadata": {
    "id": "nnwPwgjB8DwS"
   },
   "source": [
    "### **Conclusion and Recommendations**"
   ]
  },
  {
   "cell_type": "markdown",
   "metadata": {
    "id": "xuqnifw9NF2p"
   },
   "source": [
    "**Write your conclusion and recommendations here: According to the rank based recommendation system, one of the top 5 recommended products based on popularity with both 50 and 100 minimum interactions is product id B003ES5ZUU. The optimized user-user similarity-based recommendation model has better performance than the baseline model, as indicated by its lower RMSE. The SVD model has a higher RMSE and lower precision than both the baseline and optimized user-user similarity-based models. Thus, the optimized user-user similarity-based recommendation model is the best.**\n",
    "\n",
    "**Based on this analysis, I suggest that product id B003ES5ZUU should be included in a top 5 or top 10 list of recommended products for users. I also suggest using the optimized user-user similarity-based recommendation model for making better recommendations to users.**"
   ]
  }
 ],
 "metadata": {
  "colab": {
   "provenance": []
  },
  "kernelspec": {
   "display_name": "Python 3 (ipykernel)",
   "language": "python",
   "name": "python3"
  },
  "language_info": {
   "codemirror_mode": {
    "name": "ipython",
    "version": 3
   },
   "file_extension": ".py",
   "mimetype": "text/x-python",
   "name": "python",
   "nbconvert_exporter": "python",
   "pygments_lexer": "ipython3",
   "version": "3.8.15"
  }
 },
 "nbformat": 4,
 "nbformat_minor": 1
}
