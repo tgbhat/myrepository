{
 "cells": [
  {
   "cell_type": "code",
   "execution_count": 1,
   "id": "3378b932",
   "metadata": {},
   "outputs": [],
   "source": [
    "import openai"
   ]
  },
  {
   "cell_type": "code",
   "execution_count": 2,
   "id": "25b00385",
   "metadata": {},
   "outputs": [],
   "source": [
    "openai.api_key = 'insert secret API key here'"
   ]
  },
  {
   "cell_type": "code",
   "execution_count": 3,
   "id": "614c3b87",
   "metadata": {},
   "outputs": [],
   "source": [
    "def get_completion(prompt, model=\"gpt-3.5-turbo\"):\n",
    "    messages = [{\"role\": \"user\", \"content\": prompt}]\n",
    "    response = openai.ChatCompletion.create(\n",
    "        model=model,\n",
    "        messages=messages,\n",
    "        temperature=0,\n",
    "    )\n",
    "    return response.choices[0].message[\"content\"]"
   ]
  },
  {
   "cell_type": "code",
   "execution_count": 4,
   "id": "9a2bd5fc",
   "metadata": {},
   "outputs": [
    {
     "name": "stdout",
     "output_type": "stream",
     "text": [
      "Quantum mechanics is a branch of physics that deals with the behavior of matter and energy at the atomic and subatomic level. It is a fundamental theory that explains the behavior of particles such as electrons, protons, and photons. The theory was developed in the early 20th century by physicists such as Max Planck, Albert Einstein, and Niels Bohr.\n",
      "\n",
      "One of the key principles of quantum mechanics is the wave-particle duality. This principle states that particles can exhibit both wave-like and particle-like behavior depending on how they are observed. For example, electrons can behave like waves when they are not being observed, but when they are observed, they behave like particles.\n",
      "\n",
      "Another important principle of quantum mechanics is the uncertainty principle. This principle states that it is impossible to know both the position and momentum of a particle with absolute certainty. The more precisely one knows the position of a particle, the less precisely one can know its momentum, and vice versa.\n",
      "\n",
      "Quantum mechanics also introduces the concept of superposition, which states that a particle can exist in multiple states simultaneously. For example, an electron can exist in multiple energy levels at the same time.\n",
      "\n",
      "One of the most fascinating aspects of quantum mechanics is entanglement. This phenomenon occurs when two particles become linked in such a way that the state of one particle is dependent on the state of the other particle, even if they are separated by large distances.\n",
      "\n",
      "Quantum mechanics has many practical applications, including the development of transistors, lasers, and quantum computers. It has also led to the development of new technologies such as quantum cryptography, which uses the principles of quantum mechanics to create secure communication channels.\n",
      "\n",
      "In conclusion, quantum mechanics is a fascinating and complex theory that has revolutionized our understanding of the behavior of matter and energy at the atomic and subatomic level. Its principles have led to many practical applications and continue to inspire new discoveries in the field of physics.\n"
     ]
    }
   ],
   "source": [
    "# I can use ChatGPT to generate some text for a given prompt\n",
    "prompt = f\"\"\"\n",
    "Explain quantum mechanics in a short essay\n",
    "\"\"\"\n",
    "response = get_completion(prompt)\n",
    "print(response)"
   ]
  },
  {
   "cell_type": "code",
   "execution_count": 5,
   "id": "9b8164b3",
   "metadata": {},
   "outputs": [
    {
     "name": "stdout",
     "output_type": "stream",
     "text": [
      "Quantum mechanics is a branch of physics that studies the behavior of matter and energy at the atomic and subatomic level. It is based on the principles of wave-particle duality, uncertainty, and superposition. In quantum mechanics, particles are described by wave functions that determine the probability of finding them in a particular state. The act of measurement collapses the wave function and determines the state of the particle. This leads to the concept of entanglement, where two particles can become correlated in such a way that the state of one particle is dependent on the state of the other, even if they are separated by large distances. Quantum mechanics has led to many technological advancements, including the development of transistors, lasers, and quantum computers. It also has implications for our understanding of the nature of reality and the fundamental laws of the universe.\n"
     ]
    }
   ],
   "source": [
    "# I can ask for a shorter response\n",
    "prompt = f\"\"\"\n",
    "Explain quantum mechanics and use at most 150 words\n",
    "\"\"\"\n",
    "response = get_completion(prompt)\n",
    "print(response)"
   ]
  },
  {
   "cell_type": "code",
   "execution_count": 6,
   "id": "67eca667",
   "metadata": {},
   "outputs": [
    {
     "name": "stdout",
     "output_type": "stream",
     "text": [
      "Spanish: La mecánica cuántica es una rama de la física que estudia el comportamiento de la materia y la energía a nivel atómico y subatómico. Se basa en los principios de la dualidad onda-partícula, la incertidumbre y la superposición. En la mecánica cuántica, las partículas se describen mediante funciones de onda que determinan la probabilidad de encontrarlas en un estado particular. El acto de medición colapsa la función de onda y determina el estado de la partícula. Esto lleva al concepto de entrelazamiento, donde dos partículas pueden correlacionarse de tal manera que el estado de una partícula depende del estado de la otra, incluso si están separadas por grandes distancias. La mecánica cuántica ha llevado a muchos avances tecnológicos, incluyendo el desarrollo de transistores, láseres y computadoras cuánticas. También tiene implicaciones para nuestra comprensión de la naturaleza de la realidad y las leyes fundamentales del universo.\n",
      "\n",
      "French: La mécanique quantique est une branche de la physique qui étudie le comportement de la matière et de l'énergie au niveau atomique et subatomique. Elle est basée sur les principes de la dualité onde-particule, de l'incertitude et de la superposition. En mécanique quantique, les particules sont décrites par des fonctions d'onde qui déterminent la probabilité de les trouver dans un état particulier. L'acte de mesure fait s'effondrer la fonction d'onde et détermine l'état de la particule. Cela conduit au concept d'entrelacement, où deux particules peuvent devenir corrélées de telle manière que l'état d'une particule dépend de l'état de l'autre, même si elles sont séparées par de grandes distances. La mécanique quantique a conduit à de nombreuses avancées technologiques, notamment le développement de transistors, de lasers et d'ordinateurs quantiques. Elle a également des implications pour notre compréhension de la nature de la réalité et des lois fondamentales de l'univers.\n"
     ]
    }
   ],
   "source": [
    "# I can also translate this text into another languages such as Spanish and French\n",
    "prompt = f\"\"\"\n",
    "Translate the following  text to Spanish and French: ```{response}```\n",
    "\"\"\"\n",
    "response = get_completion(prompt)\n",
    "print(response)"
   ]
  }
 ],
 "metadata": {
  "kernelspec": {
   "display_name": "Python 3 (ipykernel)",
   "language": "python",
   "name": "python3"
  },
  "language_info": {
   "codemirror_mode": {
    "name": "ipython",
    "version": 3
   },
   "file_extension": ".py",
   "mimetype": "text/x-python",
   "name": "python",
   "nbconvert_exporter": "python",
   "pygments_lexer": "ipython3",
   "version": "3.8.15"
  }
 },
 "nbformat": 4,
 "nbformat_minor": 5
}
